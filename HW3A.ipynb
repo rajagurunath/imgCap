{
  "nbformat": 4,
  "nbformat_minor": 0,
  "metadata": {
    "colab": {
      "name": "HW3A.ipynb",
      "provenance": [],
      "collapsed_sections": [],
      "toc_visible": true,
      "include_colab_link": true
    },
    "kernelspec": {
      "name": "python3",
      "display_name": "Python 3"
    }
  },
  "cells": [
    {
      "cell_type": "markdown",
      "metadata": {
        "id": "view-in-github",
        "colab_type": "text"
      },
      "source": [
        "<a href=\"https://colab.research.google.com/github/rajagurunath/imgCap/blob/master/HW3A.ipynb\" target=\"_parent\"><img src=\"https://colab.research.google.com/assets/colab-badge.svg\" alt=\"Open In Colab\"/></a>"
      ]
    },
    {
      "cell_type": "code",
      "metadata": {
        "id": "yXXLrjeXxEuj",
        "colab_type": "code",
        "colab": {}
      },
      "source": [
        "import math\n",
        "import numpy as np\n",
        "import pandas as pd\n",
        "import matplotlib.pyplot as plt\n",
        "import os\n",
        "from sklearn.metrics import log_loss\n",
        "from sklearn.metrics import confusion_matrix\n",
        "from sklearn.utils.multiclass import unique_labels\n",
        "import seaborn as sns\n",
        "np.random.seed(1)\n",
        "\n",
        "# activation functions\n",
        "def relu(x):\n",
        "    return (x > 0) * x\n",
        "\n",
        "def relu_deriv(x):\n",
        "    return x > 0\n",
        "\n",
        "def leaky_relu(x):\n",
        "    return np.where(x > 0, x, x * 0.01)\n",
        "\n",
        "def leaky_relu_deriv(x):\n",
        "    return np.where(x > 0, 1, 0.01)\n",
        "\n",
        "def sigmoid(x):\n",
        "    sigm = 1. / (1. + np.exp(-x))\n",
        "    return sigm\n",
        "\n",
        "def sigmoid_deriv(x):\n",
        "    sigm = 1. / (1. + np.exp(-x))\n",
        "    return sigm * (1. - sigm)\n",
        "\n",
        "def tanh(x):\n",
        "    t = np.tanh(x)\n",
        "    return t\n",
        "\n",
        "def tanh_deriv(x):\n",
        "    t = 1 - x**2\n",
        "    return t\n",
        "\n",
        "def softmax(x):\n",
        "    # shift max value to 0 for improved numerical stability\n",
        "    x -= np.max(x)\n",
        "    temp = np.exp(x)\n",
        "    return temp / np.sum(temp, axis=1, keepdims=True)\n",
        "\n",
        "def softmax_deriv(x):\n",
        "    # x * (I - x)\n",
        "    # I - identity matrix, x - softmax output\n",
        "    s = x.reshape(-1,1)\n",
        "    return np.diagflat(s) - s.dot(s.T)"
      ],
      "execution_count": 0,
      "outputs": []
    },
    {
      "cell_type": "markdown",
      "metadata": {
        "id": "WYvk1WXef7Fy",
        "colab_type": "text"
      },
      "source": [
        "# New Section"
      ]
    },
    {
      "cell_type": "code",
      "metadata": {
        "id": "UnIbp5_FxIw9",
        "colab_type": "code",
        "colab": {}
      },
      "source": [
        "# utility functions\n",
        "\n",
        "##############################################################################\n",
        "# confusion matrix plot\n",
        "# Taken from: scikit confusion matrix example\n",
        "def plot_confusion_matrix(y_true, y_pred, classes,\n",
        "                          normalize=False,\n",
        "                          title=None,\n",
        "                          cmap=plt.cm.Blues):\n",
        "    \"\"\"\n",
        "    This function prints and plots the confusion matrix.\n",
        "    Normalization can be applied by setting `normalize=True`.\n",
        "    \"\"\"\n",
        "    if not title:\n",
        "        if normalize:\n",
        "            title = 'Normalized confusion matrix'\n",
        "        else:\n",
        "            title = 'Confusion matrix, without normalization'\n",
        "\n",
        "    # Compute confusion matrix\n",
        "    cm = confusion_matrix(y_true, y_pred)\n",
        "    # Only use the labels that appear in the data\n",
        "    classes = classes[unique_labels(y_true, y_pred)]\n",
        "    if normalize:\n",
        "        cm = cm.astype('float') / cm.sum(axis=1)[:, np.newaxis]\n",
        "        print(\"Normalized confusion matrix\")\n",
        "    else:\n",
        "        print('Confusion matrix, without normalization')\n",
        "\n",
        "    print(cm)\n",
        "\n",
        "    fig, ax = plt.subplots()\n",
        "    im = ax.imshow(cm, interpolation='nearest', cmap=cmap)\n",
        "    ax.figure.colorbar(im, ax=ax)\n",
        "    # We want to show all ticks...\n",
        "    ax.set(xticks=np.arange(cm.shape[1]),\n",
        "           yticks=np.arange(cm.shape[0]),\n",
        "           # ... and label them with the respective list entries\n",
        "           xticklabels=classes, yticklabels=classes,\n",
        "           title=title,\n",
        "           ylabel='True label',\n",
        "           xlabel='Predicted label')\n",
        "\n",
        "    # Rotate the tick labels and set their alignment.\n",
        "    plt.setp(ax.get_xticklabels(), rotation=45, ha=\"right\",\n",
        "             rotation_mode=\"anchor\")\n",
        "\n",
        "    # Loop over data dimensions and create text annotations.\n",
        "    fmt = '.2f' if normalize else 'd'\n",
        "    thresh = cm.max() / 2.\n",
        "    for i in range(cm.shape[0]):\n",
        "        for j in range(cm.shape[1]):\n",
        "            ax.text(j, i, format(cm[i, j], fmt),\n",
        "                    ha=\"center\", va=\"center\",\n",
        "                    color=\"white\" if cm[i, j] > thresh else \"black\")\n",
        "    fig.tight_layout()\n",
        "    return ax"
      ],
      "execution_count": 0,
      "outputs": []
    },
    {
      "cell_type": "code",
      "metadata": {
        "id": "excG-CZQeC6F",
        "colab_type": "code",
        "colab": {}
      },
      "source": [
        ""
      ],
      "execution_count": 0,
      "outputs": []
    },
    {
      "cell_type": "code",
      "metadata": {
        "id": "yzCADAFpeDVj",
        "colab_type": "code",
        "colab": {
          "base_uri": "https://localhost:8080/",
          "height": 34
        },
        "outputId": "acc33f23-1376-43c4-cee9-afa3c1f494b1"
      },
      "source": [
        "from google.colab import drive\n",
        "drive.mount('/content/drive')"
      ],
      "execution_count": 3,
      "outputs": [
        {
          "output_type": "stream",
          "text": [
            "Mounted at /content/drive\n"
          ],
          "name": "stdout"
        }
      ]
    },
    {
      "cell_type": "code",
      "metadata": {
        "id": "fFOBW6TsgD6c",
        "colab_type": "code",
        "colab": {}
      },
      "source": [
        "import os\n",
        "os.chdir(\"/content/drive/My Drive/\")"
      ],
      "execution_count": 0,
      "outputs": []
    },
    {
      "cell_type": "code",
      "metadata": {
        "id": "jATVgmdGxI1L",
        "colab_type": "code",
        "colab": {}
      },
      "source": [
        "# data initialization\n",
        "\n",
        "from sklearn.preprocessing import StandardScaler\n",
        "\n",
        "##############################################################################\n",
        "# training data processing\n",
        "data = pd.read_excel('HW3Atrain.xlsx')\n",
        "\n",
        "inputs = np.concatenate((data['X_0'].to_numpy().reshape(-1, 1),\\\n",
        "                         data['X_1'].to_numpy().reshape(-1, 1)), axis=1)\n",
        "# normalize features with zero mean and unit variance\n",
        "inputs = StandardScaler().fit(inputs).transform(inputs)\n",
        "\n",
        "y = data['y'].to_numpy().reshape(-1, 1)\n",
        "\n",
        "labels = []\n",
        "for i in range(len(y)):\n",
        "    if(y[i] == 0):\n",
        "        labels.append([1, 0])\n",
        "    else:\n",
        "        labels.append([0, 1])\n",
        "\n",
        "labels = np.array(labels)\n",
        "\n",
        "##############################################################################\n",
        "# validation data processing\n",
        "validation_data = pd.read_excel('HW3Avalidate.xlsx')\n",
        "\n",
        "validation_inputs = np.concatenate((validation_data['X_0'].to_numpy().reshape(-1, 1),\\\n",
        "                                    validation_data['X_1'].to_numpy().reshape(-1, 1)), axis=1)\n",
        "# normalize features data with zero mean and unit variance\n",
        "validation_inputs = StandardScaler().fit(validation_inputs).transform(validation_inputs)\n",
        "\n",
        "validation_y = validation_data['y'].to_numpy().reshape(-1, 1)\n",
        "\n",
        "validation_labels = []\n",
        "for i in range(len(validation_y)):\n",
        "    if(validation_y[i] == 0):\n",
        "        validation_labels.append([1, 0])\n",
        "    else:\n",
        "        validation_labels.append([0, 1])\n",
        "\n",
        "validation_labels = np.array(validation_labels)"
      ],
      "execution_count": 0,
      "outputs": []
    },
    {
      "cell_type": "code",
      "metadata": {
        "id": "rRPnuLlWxI5W",
        "colab_type": "code",
        "colab": {
          "base_uri": "https://localhost:8080/",
          "height": 1000
        },
        "outputId": "3c295d38-5bab-4708-9a50-02bea6922eb4"
      },
      "source": [
        "##############################################################################\n",
        "### neural network configuration\n",
        "# layer sizes\n",
        "hidden_size = 10\n",
        "out_size = 2\n",
        "\n",
        "# learning rate\n",
        "alpha = 0.02\n",
        "\n",
        "# batch config\n",
        "num_batches = 10\n",
        "batch_size = int(inputs.shape[0] / num_batches)\n",
        "\n",
        "##############################################################################\n",
        "### early stopping (ES) config\n",
        "# criterion : check criterion every N epoch\n",
        "ES_config = {\n",
        "    'validation_loss' : 5,\n",
        "    'generalization_loss': 2\n",
        "}\n",
        "\n",
        "# stopping criteria\n",
        "# Based on: \"Early Stopping | but when?\" Lutz Prechelt\n",
        "# https://page.mi.fu-berlin.de/prechelt/Biblio/stop_tricks1997.pdf\n",
        "# - validation loss - stop immediately when val. loss start increasing\n",
        "# - generalization loss - stop when gen. loss exceeds threshold\n",
        "#   rule: ((val_loss[-1] / min(val_loss[:])) - 1) > thold\n",
        "# - progress - stop when validation loss value change falls below threshold\n",
        "\n",
        "#ES_criterion = 'validation_loss'\n",
        "ES_criterion = 'generalization_loss'\n",
        "\n",
        "# stop when generalization loss exceeds threshold\n",
        "gen_loss_thold = 0.01\n",
        "\n",
        "# stop when validation loss progress is below threshold\n",
        "validation_progress_thold = 0.1\n",
        "\n",
        "# check stopping criterion every N epoch\n",
        "ES_N_epoch = ES_config[ES_criterion]\n",
        "\n",
        "# prevent training from stopping too early when loss might\n",
        "# still be changing rapidly\n",
        "min_epochs = 100\n",
        "\n",
        "# max training time\n",
        "max_epochs = 3000\n",
        "\n",
        "##############################################################################\n",
        "# weight initialization\n",
        "\n",
        "# He initialization\n",
        "# https://www.cv-foundation.org/openaccess/content_iccv_2015/papers/He_Delving_Deep_into_ICCV_2015_paper.pdf\n",
        "h1_weights = np.random.randn(inputs.shape[1], hidden_size) * np.sqrt(2 / (inputs.shape[1]))\n",
        "h2_weights = np.random.randn(hidden_size, hidden_size) * np.sqrt(2 / (hidden_size))\n",
        "\n",
        "# Xavier initialization\n",
        "# http://proceedings.mlr.press/v9/glorot10a/glorot10a.pdf\n",
        "out_weights = np.random.uniform(-1,1,size=(hidden_size, out_size)) * np.sqrt(6) / np.sqrt(hidden_size + out_size)\n",
        "\n",
        "##############################################################################\n",
        "# bias initialization\n",
        "h1_bias = np.zeros((1, hidden_size))\n",
        "h2_bias = np.zeros((1, hidden_size))\n",
        "out_bias = np.zeros((1, out_size))\n",
        "\n",
        "##############################################################################\n",
        "# NN performance statistics\n",
        "training_error = []\n",
        "validation_error = []\n",
        "\n",
        "training_loss = []\n",
        "validation_loss = []\n",
        "\n",
        "pred = np.zeros(inputs.shape)\n",
        "\n",
        "##############################################################################\n",
        "# neural network training\n",
        "epoch = 0  \n",
        "\n",
        "while(epoch < max_epochs):\n",
        "    epoch += 1\n",
        "    correct_cnt = 0\n",
        "    \n",
        "    for batch in range(num_batches):\n",
        "        batch_start = batch * batch_size\n",
        "        batch_end = (batch + 1) * batch_size\n",
        "        \n",
        "        # feedforward\n",
        "        h1_out = leaky_relu(inputs[batch_start:batch_end].dot(h1_weights) + h1_bias)\n",
        "        h2_out = leaky_relu(h1_out.dot(h2_weights) + h2_bias)\n",
        "        out = softmax(h2_out.dot(out_weights) + out_bias)\n",
        "\n",
        "        # save outputs\n",
        "        for i in range(batch_size):\n",
        "            correct_cnt += int(np.argmax(out[i]) == \\\n",
        "                               np.argmax(labels[batch_start+i]))\n",
        "        pred[batch_start:batch_end] = out\n",
        "\n",
        "        # backpropagation\n",
        "        out_delta = (out - labels[batch_start:batch_end]) / (out.shape[0] * out.shape[1])\n",
        "        h2_delta = out_delta.dot(out_weights.T) * leaky_relu_deriv(h2_out)\n",
        "        h1_delta = h2_delta.dot(h2_weights.T) * leaky_relu_deriv(h1_out)\n",
        "\n",
        "        out_weights -= alpha * h2_out.T.dot(out_delta)\n",
        "        h2_weights -= alpha * h1_out.T.dot(h2_delta)\n",
        "        h1_weights -= alpha * inputs[batch_start:batch_end].T.dot(h1_delta)\n",
        "        \n",
        "        out_bias -= alpha * np.sum(out_delta, axis=0, keepdims=True)\n",
        "        h2_bias -= alpha * np.sum(h2_delta, axis=0, keepdims=True)\n",
        "        h1_bias -= alpha * np.sum(h1_delta, axis=0, keepdims=True)\n",
        "    \n",
        "    # training loss and error\n",
        "    training_error.append(1 - correct_cnt/len(inputs))\n",
        "    training_loss.append(log_loss(labels, pred))\n",
        "    \n",
        "    # validation loss and error\n",
        "    validation_correct_cnt = 0\n",
        "    h1_out = relu(validation_inputs.dot(h1_weights))\n",
        "    h2_out = relu(h1_out.dot(h2_weights))\n",
        "    out = softmax(h2_out.dot(out_weights))\n",
        "    \n",
        "    for i in range(len(validation_inputs)):\n",
        "        validation_correct_cnt += int(np.argmax(out[i]) == \\\n",
        "                                      np.argmax(validation_labels[i]))\n",
        "    validation_pred = out\n",
        "    \n",
        "    validation_error.append(1 - validation_correct_cnt/len(validation_inputs))\n",
        "    validation_loss.append(log_loss(validation_labels, validation_pred))\n",
        "    \n",
        "    # check early stopping conditions every N epoch\n",
        "    if(epoch % ES_N_epoch == 0):\n",
        "        if((ES_criterion == 'validation_loss')\\\n",
        "           and (validation_loss[-1] > validation_loss[-ES_N_epoch])\\\n",
        "           and (epoch > min_epochs)):\n",
        "            # stop training\n",
        "            break\n",
        "        elif((ES_criterion == 'generalization_loss')\\\n",
        "             and ((validation_loss[-1]/min(validation_loss) - 1) > gen_loss_thold)\\\n",
        "             and (epoch > min_epochs)):\n",
        "            # stop training\n",
        "            break\n",
        "\n",
        "        # progress describes how quickly validation loss changes \n",
        "        progress = 1000 * (np.sum(validation_loss[-1:-(ES_N_epoch+1):-1])\\\n",
        "                           / (ES_N_epoch * min(validation_loss[-1:-(ES_N_epoch+1):-1])) - 1)            \n",
        "        if(progress < validation_progress_thold):\n",
        "            # stop training\n",
        "            break\n",
        "\n",
        "##############################################################################\n",
        "# training summary\n",
        "print(\"Number of epoch elapsed:\", epoch)\n",
        "print(\"Early stopping criterion used:\", ES_criterion)\n",
        "print(\"\")\n",
        "\n",
        "# pick accuracy from the last successful early stopping check\n",
        "print(\"Final training accuracy:\", 1 - training_error[-ES_N_epoch])\n",
        "print(\"Final validation accuracy:\", 1 - validation_error[-ES_N_epoch])\n",
        "print(\"\")\n",
        "\n",
        "#confusion_matrix(validation_y, np.argmax(validation_pred, axis=1), labels=[0, 1])\n",
        "np.set_printoptions(precision=2)\n",
        "plot_confusion_matrix(validation_y, np.argmax(validation_pred, axis=1), np.array([\"class 0\", \"class 1\"]),\\\n",
        "                      title=\"Validation set confusion matrix\")\n",
        "print(\"\")\n",
        "\n",
        "# loss funtion plot\n",
        "fig, ax = plt.subplots()\n",
        "training_loss_line, = ax.plot(range(epoch), training_loss)\n",
        "validation_loss_line, = ax.plot(range(epoch), validation_loss)\n",
        "ax.set(xlabel=\"Epoch\", ylabel=\"Cross entropy loss\", title=\"Loss function plot\")\n",
        "plt.legend((training_loss_line, validation_loss_line), ('Training loss', 'Validation loss'))\n",
        "\n",
        "# error funtion plot\n",
        "fig, ax = plt.subplots()\n",
        "training_error_line, = ax.plot(range(epoch), training_error)\n",
        "validation_error_line, = ax.plot(range(epoch), validation_error)\n",
        "ax.set(xlabel=\"Epoch\", ylabel=\"Error\", title=\"Error plot\")\n",
        "plt.legend((training_error_line, validation_error_line), ('Training error', 'Validation error'))"
      ],
      "execution_count": 6,
      "outputs": [
        {
          "output_type": "stream",
          "text": [
            "Number of epoch elapsed: 670\n",
            "Early stopping criterion used: generalization_loss\n",
            "\n",
            "Final training accuracy: 0.975609756097561\n",
            "Final validation accuracy: 0.975609756097561\n",
            "\n",
            "Confusion matrix, without normalization\n",
            "[[40  1]\n",
            " [ 1 40]]\n",
            "\n"
          ],
          "name": "stdout"
        },
        {
          "output_type": "execute_result",
          "data": {
            "text/plain": [
              "<matplotlib.legend.Legend at 0x7fe0266c2be0>"
            ]
          },
          "metadata": {
            "tags": []
          },
          "execution_count": 6
        },
        {
          "output_type": "display_data",
          "data": {
            "image/png": "[encoded data removed]",
            "text/plain": [
              "<Figure size 432x288 with 2 Axes>"
            ]
          },
          "metadata": {
            "tags": []
          }
        },
        {
          "output_type": "display_data",
          "data": {
            "image/png": "[encoded data removed]",
            "text/plain": [
              "<Figure size 432x288 with 1 Axes>"
            ]
          },
          "metadata": {
            "tags": []
          }
        },
        {
          "output_type": "display_data",
          "data": {
            "image/png": "[encoded data removed]",
            "text/plain": [
              "<Figure size 432x288 with 1 Axes>"
            ]
          },
          "metadata": {
            "tags": []
          }
        }
      ]
    },
    {
      "cell_type": "markdown",
      "metadata": {
        "id": "l9kdxGyFi9Cn",
        "colab_type": "text"
      },
      "source": [
        "# HW3B"
      ]
    },
    {
      "cell_type": "markdown",
      "metadata": {
        "id": "iA2YCAD6jA66",
        "colab_type": "text"
      },
      "source": [
        " ## (10 points) Parameter initialization\n",
        " Choose the best performing model from HW3A in terms\n",
        "of classification accuracy. For this model, initialize all its parameters (connection weights and biases) to zero and retrain it using all the other settings from HW3A. Report the performance (e.g.loss function over training epochs, classification accuracy and confusion matrix on the validation\n",
        "set after training) of this new trained model. Do you observe any interesting behavior for this new trained model? Discuss the performance of this new trained model in comparison with the performance of the best model from HW3A."
      ]
    },
    {
      "cell_type": "code",
      "metadata": {
        "id": "GNHt2Zz3gTed",
        "colab_type": "code",
        "colab": {
          "base_uri": "https://localhost:8080/",
          "height": 1000
        },
        "outputId": "ef5b0d87-4d83-48f6-cc78-72ba075c9a29"
      },
      "source": [
        "#zero init\n",
        "def hw3a_1():\n",
        "  h1_weights = np.zeros((inputs.shape[1], hidden_size)) * np.sqrt(2 / (inputs.shape[1]))\n",
        "  h2_weights = np.zeros((hidden_size, hidden_size)) * np.sqrt(2 / (hidden_size))\n",
        "\n",
        "  # Xavier initialization\n",
        "  # http://proceedings.mlr.press/v9/glorot10a/glorot10a.pdf\n",
        "  #out_weights = np.random.uniform(-1,1,size=(hidden_size, out_size)) * np.sqrt(6) / np.sqrt(hidden_size + out_size)\n",
        "  out_weights = np.zeros((hidden_size, out_size))\n",
        "  ##############################################################################\n",
        "  # bias initialization\n",
        "  h1_bias = np.zeros((1, hidden_size))\n",
        "  h2_bias = np.zeros((1, hidden_size))\n",
        "  out_bias = np.zeros((1, out_size))\n",
        "\n",
        "  ##############################################################################\n",
        "  # NN performance statistics\n",
        "  training_error = []\n",
        "  validation_error = []\n",
        "\n",
        "  training_loss = []\n",
        "  validation_loss = []\n",
        "\n",
        "  pred = np.zeros(inputs.shape)\n",
        "\n",
        "  ##############################################################################\n",
        "  # neural network training\n",
        "  epoch = 0  \n",
        "\n",
        "  while(epoch < max_epochs):\n",
        "      epoch += 1\n",
        "      correct_cnt = 0\n",
        "      \n",
        "      for batch in range(num_batches):\n",
        "          batch_start = batch * batch_size\n",
        "          batch_end = (batch + 1) * batch_size\n",
        "          \n",
        "          # feedforward\n",
        "          h1_out = leaky_relu(inputs[batch_start:batch_end].dot(h1_weights) + h1_bias)\n",
        "          h2_out = leaky_relu(h1_out.dot(h2_weights) + h2_bias)\n",
        "          out = softmax(h2_out.dot(out_weights) + out_bias)\n",
        "\n",
        "          # save outputs\n",
        "          for i in range(batch_size):\n",
        "              correct_cnt += int(np.argmax(out[i]) == \\\n",
        "                                np.argmax(labels[batch_start+i]))\n",
        "          pred[batch_start:batch_end] = out\n",
        "\n",
        "          # backpropagation\n",
        "          out_delta = (out - labels[batch_start:batch_end]) / (out.shape[0] * out.shape[1])\n",
        "          h2_delta = out_delta.dot(out_weights.T) * leaky_relu_deriv(h2_out)\n",
        "          h1_delta = h2_delta.dot(h2_weights.T) * leaky_relu_deriv(h1_out)\n",
        "\n",
        "          out_weights -= alpha * h2_out.T.dot(out_delta)\n",
        "          h2_weights -= alpha * h1_out.T.dot(h2_delta)\n",
        "          h1_weights -= alpha * inputs[batch_start:batch_end].T.dot(h1_delta)\n",
        "          \n",
        "          out_bias -= alpha * np.sum(out_delta, axis=0, keepdims=True)\n",
        "          h2_bias -= alpha * np.sum(h2_delta, axis=0, keepdims=True)\n",
        "          h1_bias -= alpha * np.sum(h1_delta, axis=0, keepdims=True)\n",
        "      \n",
        "      # training loss and error\n",
        "      training_error.append(1 - correct_cnt/len(inputs))\n",
        "      training_loss.append(log_loss(labels, pred))\n",
        "      \n",
        "      # validation loss and error\n",
        "      validation_correct_cnt = 0\n",
        "      h1_out = relu(validation_inputs.dot(h1_weights))\n",
        "      h2_out = relu(h1_out.dot(h2_weights))\n",
        "      out = softmax(h2_out.dot(out_weights))\n",
        "      \n",
        "      for i in range(len(validation_inputs)):\n",
        "          validation_correct_cnt += int(np.argmax(out[i]) == \\\n",
        "                                        np.argmax(validation_labels[i]))\n",
        "      validation_pred = out\n",
        "      \n",
        "      validation_error.append(1 - validation_correct_cnt/len(validation_inputs))\n",
        "      validation_loss.append(log_loss(validation_labels, validation_pred))\n",
        "      \n",
        "      # check early stopping conditions every N epoch\n",
        "      if(epoch % ES_N_epoch == 0):\n",
        "          if((ES_criterion == 'validation_loss')\\\n",
        "            and (validation_loss[-1] > validation_loss[-ES_N_epoch])\\\n",
        "            and (epoch > min_epochs)):\n",
        "              # stop training\n",
        "              break\n",
        "          elif((ES_criterion == 'generalization_loss')\\\n",
        "              and ((validation_loss[-1]/min(validation_loss) - 1) > gen_loss_thold)\\\n",
        "              and (epoch > min_epochs)):\n",
        "              # stop training\n",
        "              break\n",
        "\n",
        "          # progress describes how quickly validation loss changes \n",
        "          progress = 1000 * (np.sum(validation_loss[-1:-(ES_N_epoch+1):-1])\\\n",
        "                            / (ES_N_epoch * min(validation_loss[-1:-(ES_N_epoch+1):-1])) - 1)            \n",
        "          if(progress < validation_progress_thold):\n",
        "              # stop training\n",
        "              break\n",
        "\n",
        "  ##############################################################################\n",
        "  # training summary\n",
        "  print(\"Number of epoch elapsed:\", epoch)\n",
        "  print(\"Early stopping criterion used:\", ES_criterion)\n",
        "  print(\"\")\n",
        "\n",
        "  # pick accuracy from the last successful early stopping check\n",
        "  print(\"Final training accuracy:\", 1 - training_error[-ES_N_epoch])\n",
        "  print(\"Final validation accuracy:\", 1 - validation_error[-ES_N_epoch])\n",
        "  print(\"\")\n",
        "\n",
        "  #confusion_matrix(validation_y, np.argmax(validation_pred, axis=1), labels=[0, 1])\n",
        "  np.set_printoptions(precision=2)\n",
        "  plot_confusion_matrix(validation_y, np.argmax(validation_pred, axis=1), np.array([\"class 0\", \"class 1\"]),\\\n",
        "                        title=\"Validation set confusion matrix\")\n",
        "  print(\"\")\n",
        "\n",
        "  # loss funtion plot\n",
        "  fig, ax = plt.subplots()\n",
        "  training_loss_line, = ax.plot(range(epoch), training_loss)\n",
        "  validation_loss_line, = ax.plot(range(epoch), validation_loss)\n",
        "  ax.set(xlabel=\"Epoch\", ylabel=\"Cross entropy loss\", title=\"Loss function plot\")\n",
        "  plt.legend((training_loss_line, validation_loss_line), ('Training loss', 'Validation loss'))\n",
        "\n",
        "  # error funtion plot\n",
        "  fig, ax = plt.subplots()\n",
        "  training_error_line, = ax.plot(range(epoch), training_error)\n",
        "  validation_error_line, = ax.plot(range(epoch), validation_error)\n",
        "  ax.set(xlabel=\"Epoch\", ylabel=\"Error\", title=\"Error plot\")\n",
        "  plt.legend((training_error_line, validation_error_line), ('Training error', 'Validation error'))\n",
        "\n",
        "hw3a_1()"
      ],
      "execution_count": 7,
      "outputs": [
        {
          "output_type": "stream",
          "text": [
            "Number of epoch elapsed: 2\n",
            "Early stopping criterion used: generalization_loss\n",
            "\n",
            "Final training accuracy: 0.47804878048780486\n",
            "Final validation accuracy: 0.5\n",
            "\n",
            "Confusion matrix, without normalization\n",
            "[[41  0]\n",
            " [41  0]]\n",
            "\n"
          ],
          "name": "stdout"
        },
        {
          "output_type": "display_data",
          "data": {
            "image/png": "[encoded data removed]",
            "text/plain": [
              "<Figure size 432x288 with 2 Axes>"
            ]
          },
          "metadata": {
            "tags": []
          }
        },
        {
          "output_type": "display_data",
          "data": {
            "image/png": "[encoded data removed]",
            "text/plain": [
              "<Figure size 432x288 with 1 Axes>"
            ]
          },
          "metadata": {
            "tags": []
          }
        },
        {
          "output_type": "display_data",
          "data": {
            "image/png": "[encoded data removed]",
            "text/plain": [
              "<Figure size 432x288 with 1 Axes>"
            ]
          },
          "metadata": {
            "tags": []
          }
        }
      ]
    },
    {
      "cell_type": "markdown",
      "metadata": {
        "id": "VGi89jLkoXRN",
        "colab_type": "text"
      },
      "source": [
        "## Learning rate vs parameter initialization. \n",
        "Retrain several times for the same fixed amount of epochs (e.g. 100 - this value is your choice) the best model from HW3A using exactly\n",
        "the same settings as in HW3A, with the exception of the learning rate and the initialization of\n",
        "the connection weights and biases which have to be different for each retraining. Start with a\n",
        "very small learning rate (e.g. 0.0001) and after that gradually increase it (e.g. next values can be\n",
        ".001, 0.01, ...). Initialize the connection weights and biases by sampling from a normal distribution\n",
        "N (0, σ2\n",
        "). σ\n",
        "2 has to take the following values {0, 0.1, 0.2, 0.3, 0.4, 0.5, 0.6, 0.7, 0.8, 0.9, 1}. Make a\n",
        "heatmap2 where the x-axis represents σ\n",
        "2\n",
        ", the y −axis represents the learning rate, while the colors\n",
        "represent the accuracy3 obtained on the validation set after each training. Each element in the\n",
        "heatmap matrix represents practically the accuracy obtained with a specific learning rate and a\n",
        "specific initialization. Discuss the heatmap results."
      ]
    },
    {
      "cell_type": "code",
      "metadata": {
        "id": "5rJxMMappuGm",
        "colab_type": "code",
        "colab": {}
      },
      "source": [
        "def trainModel(alpha,h1_weights, h2_weights, out_weights, h1_bias, h2_bias, out_bias,verbose=True):\n",
        "  ##############################################################################\n",
        "  # NN performance statistics\n",
        "  training_error = []\n",
        "  validation_error = []\n",
        "\n",
        "  training_loss = []\n",
        "  validation_loss = []\n",
        "\n",
        "  pred = np.zeros(inputs.shape)\n",
        "\n",
        "  ##############################################################################\n",
        "  # neural network training\n",
        "  epoch = 0  \n",
        "\n",
        "  while(epoch < max_epochs):\n",
        "      epoch += 1\n",
        "      correct_cnt = 0\n",
        "      \n",
        "      for batch in range(num_batches):\n",
        "          batch_start = batch * batch_size\n",
        "          batch_end = (batch + 1) * batch_size\n",
        "          \n",
        "          # feedforward\n",
        "          h1_out = leaky_relu(inputs[batch_start:batch_end].dot(h1_weights) + h1_bias)\n",
        "          h2_out = leaky_relu(h1_out.dot(h2_weights) + h2_bias)\n",
        "          out = softmax(h2_out.dot(out_weights) + out_bias)\n",
        "\n",
        "          # save outputs\n",
        "          for i in range(batch_size):\n",
        "              correct_cnt += int(np.argmax(out[i]) == \\\n",
        "                                np.argmax(labels[batch_start+i]))\n",
        "          pred[batch_start:batch_end] = out\n",
        "\n",
        "          # backpropagation\n",
        "          out_delta = (out - labels[batch_start:batch_end]) / (out.shape[0] * out.shape[1])\n",
        "          h2_delta = out_delta.dot(out_weights.T) * leaky_relu_deriv(h2_out)\n",
        "          h1_delta = h2_delta.dot(h2_weights.T) * leaky_relu_deriv(h1_out)\n",
        "\n",
        "          out_weights -= alpha * h2_out.T.dot(out_delta)\n",
        "          h2_weights -= alpha * h1_out.T.dot(h2_delta)\n",
        "          h1_weights -= alpha * inputs[batch_start:batch_end].T.dot(h1_delta)\n",
        "          \n",
        "          out_bias -= alpha * np.sum(out_delta, axis=0, keepdims=True)\n",
        "          h2_bias -= alpha * np.sum(h2_delta, axis=0, keepdims=True)\n",
        "          h1_bias -= alpha * np.sum(h1_delta, axis=0, keepdims=True)\n",
        "      \n",
        "      # training loss and error\n",
        "      training_error.append(1 - correct_cnt/len(inputs))\n",
        "      training_loss.append(log_loss(labels, pred))\n",
        "      \n",
        "      # validation loss and error\n",
        "      validation_correct_cnt = 0\n",
        "      h1_out = relu(validation_inputs.dot(h1_weights))\n",
        "      h2_out = relu(h1_out.dot(h2_weights))\n",
        "      out = softmax(h2_out.dot(out_weights))\n",
        "      \n",
        "      for i in range(len(validation_inputs)):\n",
        "          validation_correct_cnt += int(np.argmax(out[i]) == \\\n",
        "                                        np.argmax(validation_labels[i]))\n",
        "      validation_pred = out\n",
        "      \n",
        "      validation_error.append(1 - validation_correct_cnt/len(validation_inputs))\n",
        "      validation_loss.append(log_loss(validation_labels, validation_pred))\n",
        "      \n",
        "      # check early stopping conditions every N epoch\n",
        "      if(epoch % ES_N_epoch == 0):\n",
        "          if((ES_criterion == 'validation_loss')\\\n",
        "            and (validation_loss[-1] > validation_loss[-ES_N_epoch])\\\n",
        "            and (epoch > min_epochs)):\n",
        "              # stop training\n",
        "              break\n",
        "          elif((ES_criterion == 'generalization_loss')\\\n",
        "              and ((validation_loss[-1]/min(validation_loss) - 1) > gen_loss_thold)\\\n",
        "              and (epoch > min_epochs)):\n",
        "              # stop training\n",
        "              break\n",
        "\n",
        "          # progress describes how quickly validation loss changes \n",
        "          progress = 1000 * (np.sum(validation_loss[-1:-(ES_N_epoch+1):-1])\\\n",
        "                            / (ES_N_epoch * min(validation_loss[-1:-(ES_N_epoch+1):-1])) - 1)            \n",
        "          if(progress < validation_progress_thold):\n",
        "              # stop training\n",
        "              break\n",
        "  if verbose:\n",
        "    ##############################################################################\n",
        "    # training summary\n",
        "    print(\"Number of epoch elapsed:\", epoch)\n",
        "    print(\"Early stopping criterion used:\", ES_criterion)\n",
        "    print(\"\")\n",
        "\n",
        "    # pick accuracy from the last successful early stopping check\n",
        "    print(\"Final training accuracy:\", 1 - training_error[-ES_N_epoch])\n",
        "    print(\"Final validation accuracy:\", 1 - validation_error[-ES_N_epoch])\n",
        "    print(\"\")\n",
        "\n",
        "    #confusion_matrix(validation_y, np.argmax(validation_pred, axis=1), labels=[0, 1])\n",
        "    np.set_printoptions(precision=2)\n",
        "    plot_confusion_matrix(validation_y, np.argmax(validation_pred, axis=1), np.array([\"class 0\", \"class 1\"]),\\\n",
        "                          title=\"Validation set confusion matrix\")\n",
        "    print(\"\")\n",
        "\n",
        "    # loss funtion plot\n",
        "    fig, ax = plt.subplots()\n",
        "    training_loss_line, = ax.plot(range(epoch), training_loss)\n",
        "    validation_loss_line, = ax.plot(range(epoch), validation_loss)\n",
        "    ax.set(xlabel=\"Epoch\", ylabel=\"Cross entropy loss\", title=\"Loss function plot\")\n",
        "    plt.legend((training_loss_line, validation_loss_line), ('Training loss', 'Validation loss'))\n",
        "\n",
        "    # error funtion plot\n",
        "    fig, ax = plt.subplots()\n",
        "    training_error_line, = ax.plot(range(epoch), training_error)\n",
        "    validation_error_line, = ax.plot(range(epoch), validation_error)\n",
        "    ax.set(xlabel=\"Epoch\", ylabel=\"Error\", title=\"Error plot\")\n",
        "    plt.legend((training_error_line, validation_error_line), ('Training error', 'Validation error'))\n",
        "    plt.show()\n",
        "  return 1 - validation_error[-ES_N_epoch]"
      ],
      "execution_count": 0,
      "outputs": []
    },
    {
      "cell_type": "code",
      "metadata": {
        "id": "GOMMjqk_qJap",
        "colab_type": "code",
        "colab": {
          "base_uri": "https://localhost:8080/",
          "height": 1000
        },
        "outputId": "279db167-9389-4bdf-91f8-0d31d30a6a84"
      },
      "source": [
        "h1_weights = np.random.randn(inputs.shape[1], hidden_size) * np.sqrt(2 / (inputs.shape[1]))\n",
        "h2_weights = np.random.randn(hidden_size, hidden_size) * np.sqrt(2 / (hidden_size))\n",
        "\n",
        "# Xavier initialization\n",
        "# http://proceedings.mlr.press/v9/glorot10a/glorot10a.pdf\n",
        "out_weights = np.random.uniform(-1,1,size=(hidden_size, out_size)) * np.sqrt(6) / np.sqrt(hidden_size + out_size)\n",
        "\n",
        "##############################################################################\n",
        "# bias initialization\n",
        "h1_bias = np.zeros((1, hidden_size))\n",
        "h2_bias = np.zeros((1, hidden_size))\n",
        "out_bias = np.zeros((1, out_size))\n",
        "\n",
        "trainModel(alpha,h1_weights, h2_weights, out_weights, h1_bias, h2_bias, out_bias)"
      ],
      "execution_count": 9,
      "outputs": [
        {
          "output_type": "stream",
          "text": [
            "Number of epoch elapsed: 222\n",
            "Early stopping criterion used: generalization_loss\n",
            "\n",
            "Final training accuracy: 0.975609756097561\n",
            "Final validation accuracy: 0.975609756097561\n",
            "\n",
            "Confusion matrix, without normalization\n",
            "[[40  1]\n",
            " [ 1 40]]\n",
            "\n"
          ],
          "name": "stdout"
        },
        {
          "output_type": "display_data",
          "data": {
            "image/png": "[encoded data removed]",
            "text/plain": [
              "<Figure size 432x288 with 2 Axes>"
            ]
          },
          "metadata": {
            "tags": []
          }
        },
        {
          "output_type": "display_data",
          "data": {
            "image/png": "[encoded data removed]",
            "text/plain": [
              "<Figure size 432x288 with 1 Axes>"
            ]
          },
          "metadata": {
            "tags": []
          }
        },
        {
          "output_type": "display_data",
          "data": {
            "image/png": "[encoded data removed]",
            "text/plain": [
              "<Figure size 432x288 with 1 Axes>"
            ]
          },
          "metadata": {
            "tags": []
          }
        },
        {
          "output_type": "execute_result",
          "data": {
            "text/plain": [
              "0.975609756097561"
            ]
          },
          "metadata": {
            "tags": []
          },
          "execution_count": 9
        }
      ]
    },
    {
      "cell_type": "code",
      "metadata": {
        "id": "iP2_euqoqmmA",
        "colab_type": "code",
        "colab": {}
      },
      "source": [
        "def create_weights_and_biases(variance):\n",
        "    hidden_size = 10\n",
        "    out_size = 2\n",
        "    \n",
        "    mean = 0.5\n",
        "    \n",
        "    h1_b = np.random.normal(mean, np.sqrt(variance), size=(1, hidden_size))\n",
        "    h2_b = np.random.normal(mean, np.sqrt(variance), size=(1, hidden_size))\n",
        "    out_b = np.random.normal(mean, np.sqrt(variance), size=(1, out_size))\n",
        "    \n",
        "    # He initialization\n",
        "    # https://www.cv-foundation.org/openaccess/content_iccv_2015/papers/He_Delving_Deep_into_ICCV_2015_paper.pdf\n",
        "    h1_w = np.random.normal(mean, np.sqrt(variance), size=(inputs.shape[1], hidden_size)) * np.sqrt(2 / (inputs.shape[1]))\n",
        "    h2_w = np.random.normal(mean, np.sqrt(variance), size=(hidden_size, hidden_size)) * np.sqrt(2 / (hidden_size))\n",
        "\n",
        "    # Xavier initialization\n",
        "    # http://proceedings.mlr.press/v9/glorot10a/glorot10a.pdf\n",
        "    out_w = np.random.normal(mean, np.sqrt(variance), size=(hidden_size, out_size)) * np.sqrt(6) / np.sqrt(hidden_size + out_size)\n",
        "    \n",
        "    return (h1_w, h2_w, out_w, h1_b, h2_b, out_b)"
      ],
      "execution_count": 0,
      "outputs": []
    },
    {
      "cell_type": "code",
      "metadata": {
        "id": "fDxuJjw5mMYr",
        "colab_type": "code",
        "colab": {}
      },
      "source": [
        "def hw3a_2(learning_rate_list,variance_list):\n",
        "  \"\"\"\n",
        "  trains a model using different learning rate and with different initilization and \n",
        "  returns Accuracy for each for each iteration\n",
        "  \"\"\"\n",
        "  alpha_list=[]\n",
        "  var_list=[]\n",
        "  val_acc_list=[]\n",
        "  for alpha in learning_rate_list:\n",
        "    for var in variance_list:\n",
        "      h1_weights, h2_weights, out_weights, h1_bias, h2_bias, out_bias=create_weights_and_biases(var)\n",
        "      acc=trainModel(alpha,h1_weights, h2_weights, out_weights, h1_bias, h2_bias, out_bias,verbose=False)\n",
        "      print(var,alpha,acc)\n",
        "      alpha_list.append(alpha)\n",
        "      var_list.append(var)\n",
        "      val_acc_list.append(acc)\n",
        "\n",
        "  res=pd.DataFrame()\n",
        "  res['learning_rate']=alpha_list\n",
        "  res['variance']=var_list\n",
        "  res['acc']=val_acc_list\n",
        "  \n",
        "  return res\n"
      ],
      "execution_count": 0,
      "outputs": []
    },
    {
      "cell_type": "code",
      "metadata": {
        "id": "ljMEhicHxjVX",
        "colab_type": "code",
        "colab": {
          "base_uri": "https://localhost:8080/",
          "height": 1000
        },
        "outputId": "1c3f686f-4c95-429b-ea71-b174db47ca82"
      },
      "source": [
        "learning_rates = [0.0001, 0.00025, 0.0005, 0.00075, 0.001, 0.0025, 0.005, 0.0075, 0.01, 0.02, 0.05, 0.075]\n",
        "variances = [0, 0.1, 0.2, 0.3, 0.4, 0.5, 0.6, 0.7, 0.8, 0.9, 1.0]\n",
        "\n",
        "res=hw3a_2(learning_rates,variances)\n",
        "#sns.heatmap(res)"
      ],
      "execution_count": 17,
      "outputs": [
        {
          "output_type": "stream",
          "text": [
            "0 0.0001 0.5\n",
            "0.1 0.0001 0.5\n",
            "0.2 0.0001 0.41463414634146334\n",
            "0.3 0.0001 0.6585365853658537\n",
            "0.4 0.0001 0.8170731707317073\n",
            "0.5 0.0001 0.5\n",
            "0.6 0.0001 0.2804878048780488\n",
            "0.7 0.0001 0.9512195121951219\n",
            "0.8 0.0001 0.7195121951219512\n",
            "0.9 0.0001 0.8536585365853658\n",
            "1.0 0.0001 0.46341463414634143\n",
            "0 0.00025 0.5\n",
            "0.1 0.00025 0.6951219512195121\n",
            "0.2 0.00025 0.9634146341463414\n",
            "0.3 0.00025 0.6585365853658537\n",
            "0.4 0.00025 0.7682926829268293\n",
            "0.5 0.00025 0.7195121951219512\n",
            "0.6 0.00025 0.7439024390243902\n",
            "0.7 0.00025 0.7195121951219512\n",
            "0.8 0.00025 0.8292682926829268\n",
            "0.9 0.00025 0.4512195121951219\n",
            "1.0 0.00025 0.8170731707317073\n",
            "0 0.0005 0.5\n",
            "0.1 0.0005 0.524390243902439\n",
            "0.2 0.0005 0.8292682926829268\n",
            "0.3 0.0005 0.6707317073170732\n",
            "0.4 0.0005 0.7195121951219512\n",
            "0.5 0.0005 0.6951219512195121\n",
            "0.6 0.0005 0.9390243902439024\n",
            "0.7 0.0005 0.5365853658536586\n",
            "0.8 0.0005 0.5\n",
            "0.9 0.0005 0.8414634146341463\n",
            "1.0 0.0005 0.5121951219512195\n",
            "0 0.00075 0.5\n",
            "0.1 0.00075 0.8780487804878049\n",
            "0.2 0.00075 0.6951219512195121\n",
            "0.3 0.00075 0.36585365853658536\n",
            "0.4 0.00075 0.5487804878048781\n",
            "0.5 0.00075 0.47560975609756095\n",
            "0.6 0.00075 0.9024390243902439\n",
            "0.7 0.00075 0.7560975609756098\n",
            "0.8 0.00075 0.8902439024390244\n",
            "0.9 0.00075 0.8536585365853658\n",
            "1.0 0.00075 0.7804878048780488\n",
            "0 0.001 0.5\n",
            "0.1 0.001 0.5\n",
            "0.2 0.001 0.5\n"
          ],
          "name": "stdout"
        },
        {
          "output_type": "error",
          "ename": "KeyboardInterrupt",
          "evalue": "ignored",
          "traceback": [
            "\u001b[0;31m---------------------------------------------------------------------------\u001b[0m",
            "\u001b[0;31mKeyboardInterrupt\u001b[0m                         Traceback (most recent call last)",
            "\u001b[0;32m<ipython-input-17-b7408e702297>\u001b[0m in \u001b[0;36m<module>\u001b[0;34m()\u001b[0m\n\u001b[1;32m      2\u001b[0m \u001b[0mvariances\u001b[0m \u001b[0;34m=\u001b[0m \u001b[0;34m[\u001b[0m\u001b[0;36m0\u001b[0m\u001b[0;34m,\u001b[0m \u001b[0;36m0.1\u001b[0m\u001b[0;34m,\u001b[0m \u001b[0;36m0.2\u001b[0m\u001b[0;34m,\u001b[0m \u001b[0;36m0.3\u001b[0m\u001b[0;34m,\u001b[0m \u001b[0;36m0.4\u001b[0m\u001b[0;34m,\u001b[0m \u001b[0;36m0.5\u001b[0m\u001b[0;34m,\u001b[0m \u001b[0;36m0.6\u001b[0m\u001b[0;34m,\u001b[0m \u001b[0;36m0.7\u001b[0m\u001b[0;34m,\u001b[0m \u001b[0;36m0.8\u001b[0m\u001b[0;34m,\u001b[0m \u001b[0;36m0.9\u001b[0m\u001b[0;34m,\u001b[0m \u001b[0;36m1.0\u001b[0m\u001b[0;34m]\u001b[0m\u001b[0;34m\u001b[0m\u001b[0;34m\u001b[0m\u001b[0m\n\u001b[1;32m      3\u001b[0m \u001b[0;34m\u001b[0m\u001b[0m\n\u001b[0;32m----> 4\u001b[0;31m \u001b[0mres\u001b[0m\u001b[0;34m=\u001b[0m\u001b[0mhw3a_2\u001b[0m\u001b[0;34m(\u001b[0m\u001b[0mlearning_rates\u001b[0m\u001b[0;34m,\u001b[0m\u001b[0mvariances\u001b[0m\u001b[0;34m)\u001b[0m\u001b[0;34m\u001b[0m\u001b[0;34m\u001b[0m\u001b[0m\n\u001b[0m\u001b[1;32m      5\u001b[0m \u001b[0;31m#sns.heatmap(res)\u001b[0m\u001b[0;34m\u001b[0m\u001b[0;34m\u001b[0m\u001b[0;34m\u001b[0m\u001b[0m\n",
            "\u001b[0;32m<ipython-input-16-61295ef3f08a>\u001b[0m in \u001b[0;36mhw3a_2\u001b[0;34m(learning_rate_list, variance_list)\u001b[0m\n\u001b[1;32m     10\u001b[0m     \u001b[0;32mfor\u001b[0m \u001b[0mvar\u001b[0m \u001b[0;32min\u001b[0m \u001b[0mvariance_list\u001b[0m\u001b[0;34m:\u001b[0m\u001b[0;34m\u001b[0m\u001b[0;34m\u001b[0m\u001b[0m\n\u001b[1;32m     11\u001b[0m       \u001b[0mh1_weights\u001b[0m\u001b[0;34m,\u001b[0m \u001b[0mh2_weights\u001b[0m\u001b[0;34m,\u001b[0m \u001b[0mout_weights\u001b[0m\u001b[0;34m,\u001b[0m \u001b[0mh1_bias\u001b[0m\u001b[0;34m,\u001b[0m \u001b[0mh2_bias\u001b[0m\u001b[0;34m,\u001b[0m \u001b[0mout_bias\u001b[0m\u001b[0;34m=\u001b[0m\u001b[0mcreate_weights_and_biases\u001b[0m\u001b[0;34m(\u001b[0m\u001b[0mvar\u001b[0m\u001b[0;34m)\u001b[0m\u001b[0;34m\u001b[0m\u001b[0;34m\u001b[0m\u001b[0m\n\u001b[0;32m---> 12\u001b[0;31m       \u001b[0macc\u001b[0m\u001b[0;34m=\u001b[0m\u001b[0mtrainModel\u001b[0m\u001b[0;34m(\u001b[0m\u001b[0malpha\u001b[0m\u001b[0;34m,\u001b[0m\u001b[0mh1_weights\u001b[0m\u001b[0;34m,\u001b[0m \u001b[0mh2_weights\u001b[0m\u001b[0;34m,\u001b[0m \u001b[0mout_weights\u001b[0m\u001b[0;34m,\u001b[0m \u001b[0mh1_bias\u001b[0m\u001b[0;34m,\u001b[0m \u001b[0mh2_bias\u001b[0m\u001b[0;34m,\u001b[0m \u001b[0mout_bias\u001b[0m\u001b[0;34m,\u001b[0m\u001b[0mverbose\u001b[0m\u001b[0;34m=\u001b[0m\u001b[0;32mFalse\u001b[0m\u001b[0;34m)\u001b[0m\u001b[0;34m\u001b[0m\u001b[0;34m\u001b[0m\u001b[0m\n\u001b[0m\u001b[1;32m     13\u001b[0m       \u001b[0mprint\u001b[0m\u001b[0;34m(\u001b[0m\u001b[0mvar\u001b[0m\u001b[0;34m,\u001b[0m\u001b[0malpha\u001b[0m\u001b[0;34m,\u001b[0m\u001b[0macc\u001b[0m\u001b[0;34m)\u001b[0m\u001b[0;34m\u001b[0m\u001b[0;34m\u001b[0m\u001b[0m\n\u001b[1;32m     14\u001b[0m       \u001b[0malpha_list\u001b[0m\u001b[0;34m.\u001b[0m\u001b[0mappend\u001b[0m\u001b[0;34m(\u001b[0m\u001b[0malpha\u001b[0m\u001b[0;34m)\u001b[0m\u001b[0;34m\u001b[0m\u001b[0;34m\u001b[0m\u001b[0m\n",
            "\u001b[0;32m<ipython-input-13-7fde36c139ff>\u001b[0m in \u001b[0;36mtrainModel\u001b[0;34m(alpha, h1_weights, h2_weights, out_weights, h1_bias, h2_bias, out_bias, verbose)\u001b[0m\n\u001b[1;32m     47\u001b[0m       \u001b[0;31m# training loss and error\u001b[0m\u001b[0;34m\u001b[0m\u001b[0;34m\u001b[0m\u001b[0;34m\u001b[0m\u001b[0m\n\u001b[1;32m     48\u001b[0m       \u001b[0mtraining_error\u001b[0m\u001b[0;34m.\u001b[0m\u001b[0mappend\u001b[0m\u001b[0;34m(\u001b[0m\u001b[0;36m1\u001b[0m \u001b[0;34m-\u001b[0m \u001b[0mcorrect_cnt\u001b[0m\u001b[0;34m/\u001b[0m\u001b[0mlen\u001b[0m\u001b[0;34m(\u001b[0m\u001b[0minputs\u001b[0m\u001b[0;34m)\u001b[0m\u001b[0;34m)\u001b[0m\u001b[0;34m\u001b[0m\u001b[0;34m\u001b[0m\u001b[0m\n\u001b[0;32m---> 49\u001b[0;31m       \u001b[0mtraining_loss\u001b[0m\u001b[0;34m.\u001b[0m\u001b[0mappend\u001b[0m\u001b[0;34m(\u001b[0m\u001b[0mlog_loss\u001b[0m\u001b[0;34m(\u001b[0m\u001b[0mlabels\u001b[0m\u001b[0;34m,\u001b[0m \u001b[0mpred\u001b[0m\u001b[0;34m)\u001b[0m\u001b[0;34m)\u001b[0m\u001b[0;34m\u001b[0m\u001b[0;34m\u001b[0m\u001b[0m\n\u001b[0m\u001b[1;32m     50\u001b[0m \u001b[0;34m\u001b[0m\u001b[0m\n\u001b[1;32m     51\u001b[0m       \u001b[0;31m# validation loss and error\u001b[0m\u001b[0;34m\u001b[0m\u001b[0;34m\u001b[0m\u001b[0;34m\u001b[0m\u001b[0m\n",
            "\u001b[0;32m/usr/local/lib/python3.6/dist-packages/sklearn/metrics/classification.py\u001b[0m in \u001b[0;36mlog_loss\u001b[0;34m(y_true, y_pred, eps, normalize, sample_weight, labels)\u001b[0m\n\u001b[1;32m   2145\u001b[0m \u001b[0;34m\u001b[0m\u001b[0m\n\u001b[1;32m   2146\u001b[0m     \u001b[0;31m# Clipping\u001b[0m\u001b[0;34m\u001b[0m\u001b[0;34m\u001b[0m\u001b[0;34m\u001b[0m\u001b[0m\n\u001b[0;32m-> 2147\u001b[0;31m     \u001b[0my_pred\u001b[0m \u001b[0;34m=\u001b[0m \u001b[0mnp\u001b[0m\u001b[0;34m.\u001b[0m\u001b[0mclip\u001b[0m\u001b[0;34m(\u001b[0m\u001b[0my_pred\u001b[0m\u001b[0;34m,\u001b[0m \u001b[0meps\u001b[0m\u001b[0;34m,\u001b[0m \u001b[0;36m1\u001b[0m \u001b[0;34m-\u001b[0m \u001b[0meps\u001b[0m\u001b[0;34m)\u001b[0m\u001b[0;34m\u001b[0m\u001b[0;34m\u001b[0m\u001b[0m\n\u001b[0m\u001b[1;32m   2148\u001b[0m \u001b[0;34m\u001b[0m\u001b[0m\n\u001b[1;32m   2149\u001b[0m     \u001b[0;31m# If y_pred is of single dimension, assume y_true to be binary\u001b[0m\u001b[0;34m\u001b[0m\u001b[0;34m\u001b[0m\u001b[0;34m\u001b[0m\u001b[0m\n",
            "\u001b[0;32m<__array_function__ internals>\u001b[0m in \u001b[0;36mclip\u001b[0;34m(*args, **kwargs)\u001b[0m\n",
            "\u001b[0;32m/usr/local/lib/python3.6/dist-packages/numpy/core/fromnumeric.py\u001b[0m in \u001b[0;36mclip\u001b[0;34m(a, a_min, a_max, out, **kwargs)\u001b[0m\n\u001b[1;32m   2035\u001b[0m \u001b[0;34m\u001b[0m\u001b[0m\n\u001b[1;32m   2036\u001b[0m     \"\"\"\n\u001b[0;32m-> 2037\u001b[0;31m     \u001b[0;32mreturn\u001b[0m \u001b[0m_wrapfunc\u001b[0m\u001b[0;34m(\u001b[0m\u001b[0ma\u001b[0m\u001b[0;34m,\u001b[0m \u001b[0;34m'clip'\u001b[0m\u001b[0;34m,\u001b[0m \u001b[0ma_min\u001b[0m\u001b[0;34m,\u001b[0m \u001b[0ma_max\u001b[0m\u001b[0;34m,\u001b[0m \u001b[0mout\u001b[0m\u001b[0;34m=\u001b[0m\u001b[0mout\u001b[0m\u001b[0;34m,\u001b[0m \u001b[0;34m**\u001b[0m\u001b[0mkwargs\u001b[0m\u001b[0;34m)\u001b[0m\u001b[0;34m\u001b[0m\u001b[0;34m\u001b[0m\u001b[0m\n\u001b[0m\u001b[1;32m   2038\u001b[0m \u001b[0;34m\u001b[0m\u001b[0m\n\u001b[1;32m   2039\u001b[0m \u001b[0;34m\u001b[0m\u001b[0m\n",
            "\u001b[0;32m/usr/local/lib/python3.6/dist-packages/numpy/core/fromnumeric.py\u001b[0m in \u001b[0;36m_wrapfunc\u001b[0;34m(obj, method, *args, **kwds)\u001b[0m\n\u001b[1;32m     59\u001b[0m \u001b[0;34m\u001b[0m\u001b[0m\n\u001b[1;32m     60\u001b[0m     \u001b[0;32mtry\u001b[0m\u001b[0;34m:\u001b[0m\u001b[0;34m\u001b[0m\u001b[0;34m\u001b[0m\u001b[0m\n\u001b[0;32m---> 61\u001b[0;31m         \u001b[0;32mreturn\u001b[0m \u001b[0mbound\u001b[0m\u001b[0;34m(\u001b[0m\u001b[0;34m*\u001b[0m\u001b[0margs\u001b[0m\u001b[0;34m,\u001b[0m \u001b[0;34m**\u001b[0m\u001b[0mkwds\u001b[0m\u001b[0;34m)\u001b[0m\u001b[0;34m\u001b[0m\u001b[0;34m\u001b[0m\u001b[0m\n\u001b[0m\u001b[1;32m     62\u001b[0m     \u001b[0;32mexcept\u001b[0m \u001b[0mTypeError\u001b[0m\u001b[0;34m:\u001b[0m\u001b[0;34m\u001b[0m\u001b[0;34m\u001b[0m\u001b[0m\n\u001b[1;32m     63\u001b[0m         \u001b[0;31m# A TypeError occurs if the object does have such a method in its\u001b[0m\u001b[0;34m\u001b[0m\u001b[0;34m\u001b[0m\u001b[0;34m\u001b[0m\u001b[0m\n",
            "\u001b[0;32m/usr/local/lib/python3.6/dist-packages/numpy/core/_methods.py\u001b[0m in \u001b[0;36m_clip\u001b[0;34m(a, min, max, out, casting, **kwargs)\u001b[0m\n\u001b[1;32m    104\u001b[0m     \u001b[0;32mif\u001b[0m \u001b[0;32mnot\u001b[0m \u001b[0m_clip_dep_is_byte_swapped\u001b[0m\u001b[0;34m(\u001b[0m\u001b[0ma\u001b[0m\u001b[0;34m)\u001b[0m \u001b[0;32mand\u001b[0m \u001b[0;32mnot\u001b[0m \u001b[0m_clip_dep_is_byte_swapped\u001b[0m\u001b[0;34m(\u001b[0m\u001b[0mout\u001b[0m\u001b[0;34m)\u001b[0m\u001b[0;34m:\u001b[0m\u001b[0;34m\u001b[0m\u001b[0;34m\u001b[0m\u001b[0m\n\u001b[1;32m    105\u001b[0m         \u001b[0musing_deprecated_nan\u001b[0m \u001b[0;34m=\u001b[0m \u001b[0;32mFalse\u001b[0m\u001b[0;34m\u001b[0m\u001b[0;34m\u001b[0m\u001b[0m\n\u001b[0;32m--> 106\u001b[0;31m         \u001b[0;32mif\u001b[0m \u001b[0m_clip_dep_is_scalar_nan\u001b[0m\u001b[0;34m(\u001b[0m\u001b[0mmin\u001b[0m\u001b[0;34m)\u001b[0m\u001b[0;34m:\u001b[0m\u001b[0;34m\u001b[0m\u001b[0;34m\u001b[0m\u001b[0m\n\u001b[0m\u001b[1;32m    107\u001b[0m             \u001b[0mmin\u001b[0m \u001b[0;34m=\u001b[0m \u001b[0;34m-\u001b[0m\u001b[0mfloat\u001b[0m\u001b[0;34m(\u001b[0m\u001b[0;34m'inf'\u001b[0m\u001b[0;34m)\u001b[0m\u001b[0;34m\u001b[0m\u001b[0;34m\u001b[0m\u001b[0m\n\u001b[1;32m    108\u001b[0m             \u001b[0musing_deprecated_nan\u001b[0m \u001b[0;34m=\u001b[0m \u001b[0;32mTrue\u001b[0m\u001b[0;34m\u001b[0m\u001b[0;34m\u001b[0m\u001b[0m\n",
            "\u001b[0;32m/usr/local/lib/python3.6/dist-packages/numpy/core/_methods.py\u001b[0m in \u001b[0;36m_clip_dep_is_scalar_nan\u001b[0;34m(a)\u001b[0m\n\u001b[1;32m     64\u001b[0m     \u001b[0;31m# guarded to protect circular imports\u001b[0m\u001b[0;34m\u001b[0m\u001b[0;34m\u001b[0m\u001b[0;34m\u001b[0m\u001b[0m\n\u001b[1;32m     65\u001b[0m     \u001b[0;32mfrom\u001b[0m \u001b[0mnumpy\u001b[0m\u001b[0;34m.\u001b[0m\u001b[0mcore\u001b[0m\u001b[0;34m.\u001b[0m\u001b[0mfromnumeric\u001b[0m \u001b[0;32mimport\u001b[0m \u001b[0mndim\u001b[0m\u001b[0;34m\u001b[0m\u001b[0;34m\u001b[0m\u001b[0m\n\u001b[0;32m---> 66\u001b[0;31m     \u001b[0;32mif\u001b[0m \u001b[0mndim\u001b[0m\u001b[0;34m(\u001b[0m\u001b[0ma\u001b[0m\u001b[0;34m)\u001b[0m \u001b[0;34m!=\u001b[0m \u001b[0;36m0\u001b[0m\u001b[0;34m:\u001b[0m\u001b[0;34m\u001b[0m\u001b[0;34m\u001b[0m\u001b[0m\n\u001b[0m\u001b[1;32m     67\u001b[0m         \u001b[0;32mreturn\u001b[0m \u001b[0;32mFalse\u001b[0m\u001b[0;34m\u001b[0m\u001b[0;34m\u001b[0m\u001b[0m\n\u001b[1;32m     68\u001b[0m     \u001b[0;32mtry\u001b[0m\u001b[0;34m:\u001b[0m\u001b[0;34m\u001b[0m\u001b[0;34m\u001b[0m\u001b[0m\n",
            "\u001b[0;31mKeyboardInterrupt\u001b[0m: "
          ]
        }
      ]
    },
    {
      "cell_type": "code",
      "metadata": {
        "id": "r2il7b-xzaqm",
        "colab_type": "code",
        "colab": {
          "base_uri": "https://localhost:8080/",
          "height": 772
        },
        "outputId": "fcbc0ed8-a576-4cfe-a3b3-c5408b7dd78a"
      },
      "source": [
        "_map=res.pivot('learning_rate', 'variance', 'acc')\n",
        "import tabulate\n",
        "print(tabulate.tabulate(_map,headers='keys', tablefmt='psql'))\n",
        "fig, ax = plt.subplots(figsize=(20,10))\n",
        "\n",
        "sns.heatmap(_map,ax=ax)"
      ],
      "execution_count": 25,
      "outputs": [
        {
          "output_type": "stream",
          "text": [
            "ERROR:root:Internal Python error in the inspect module.\n",
            "Below is the traceback from this internal error.\n",
            "\n"
          ],
          "name": "stderr"
        },
        {
          "output_type": "stream",
          "text": [
            "Traceback (most recent call last):\n",
            "  File \"/usr/local/lib/python3.6/dist-packages/IPython/core/interactiveshell.py\", line 2882, in run_code\n",
            "    exec(code_obj, self.user_global_ns, self.user_ns)\n",
            "  File \"<ipython-input-25-486d3c4ee54a>\", line 1, in <module>\n",
            "    _map=res.pivot('learning_rate', 'variance', 'acc')\n",
            "NameError: name 'res' is not defined\n",
            "\n",
            "During handling of the above exception, another exception occurred:\n",
            "\n",
            "Traceback (most recent call last):\n",
            "  File \"/usr/local/lib/python3.6/dist-packages/IPython/core/interactiveshell.py\", line 1823, in showtraceback\n",
            "    stb = value._render_traceback_()\n",
            "AttributeError: 'NameError' object has no attribute '_render_traceback_'\n",
            "\n",
            "During handling of the above exception, another exception occurred:\n",
            "\n",
            "Traceback (most recent call last):\n",
            "  File \"/usr/local/lib/python3.6/dist-packages/IPython/core/ultratb.py\", line 1132, in get_records\n",
            "    return _fixed_getinnerframes(etb, number_of_lines_of_context, tb_offset)\n",
            "  File \"/usr/local/lib/python3.6/dist-packages/IPython/core/ultratb.py\", line 313, in wrapped\n",
            "    return f(*args, **kwargs)\n",
            "  File \"/usr/local/lib/python3.6/dist-packages/IPython/core/ultratb.py\", line 358, in _fixed_getinnerframes\n",
            "    records = fix_frame_records_filenames(inspect.getinnerframes(etb, context))\n",
            "  File \"/usr/lib/python3.6/inspect.py\", line 1490, in getinnerframes\n",
            "    frameinfo = (tb.tb_frame,) + getframeinfo(tb, context)\n",
            "  File \"/usr/lib/python3.6/inspect.py\", line 1448, in getframeinfo\n",
            "    filename = getsourcefile(frame) or getfile(frame)\n",
            "  File \"/usr/lib/python3.6/inspect.py\", line 696, in getsourcefile\n",
            "    if getattr(getmodule(object, filename), '__loader__', None) is not None:\n",
            "  File \"/usr/lib/python3.6/inspect.py\", line 725, in getmodule\n",
            "    file = getabsfile(object, _filename)\n",
            "  File \"/usr/lib/python3.6/inspect.py\", line 709, in getabsfile\n",
            "    return os.path.normcase(os.path.abspath(_filename))\n",
            "  File \"/usr/lib/python3.6/posixpath.py\", line 383, in abspath\n",
            "    cwd = os.getcwd()\n",
            "OSError: [Errno 107] Transport endpoint is not connected\n"
          ],
          "name": "stdout"
        },
        {
          "output_type": "error",
          "ename": "NameError",
          "evalue": "ignored",
          "traceback": [
            "\u001b[0;31m---------------------------------------------------------------------------\u001b[0m"
          ]
        }
      ]
    },
    {
      "cell_type": "code",
      "metadata": {
        "id": "G9AP8og77cqc",
        "colab_type": "code",
        "colab": {
          "base_uri": "https://localhost:8080/",
          "height": 772
        },
        "outputId": "b57f4e08-1688-4b47-ee36-5ec4b00c3c41"
      },
      "source": [
        "_map"
      ],
      "execution_count": 19,
      "outputs": [
        {
          "output_type": "stream",
          "text": [
            "ERROR:root:Internal Python error in the inspect module.\n",
            "Below is the traceback from this internal error.\n",
            "\n"
          ],
          "name": "stderr"
        },
        {
          "output_type": "stream",
          "text": [
            "Traceback (most recent call last):\n",
            "  File \"/usr/local/lib/python3.6/dist-packages/IPython/core/interactiveshell.py\", line 2882, in run_code\n",
            "    exec(code_obj, self.user_global_ns, self.user_ns)\n",
            "  File \"<ipython-input-19-2c5ff597f187>\", line 1, in <module>\n",
            "    _map\n",
            "NameError: name '_map' is not defined\n",
            "\n",
            "During handling of the above exception, another exception occurred:\n",
            "\n",
            "Traceback (most recent call last):\n",
            "  File \"/usr/local/lib/python3.6/dist-packages/IPython/core/interactiveshell.py\", line 1823, in showtraceback\n",
            "    stb = value._render_traceback_()\n",
            "AttributeError: 'NameError' object has no attribute '_render_traceback_'\n",
            "\n",
            "During handling of the above exception, another exception occurred:\n",
            "\n",
            "Traceback (most recent call last):\n",
            "  File \"/usr/local/lib/python3.6/dist-packages/IPython/core/ultratb.py\", line 1132, in get_records\n",
            "    return _fixed_getinnerframes(etb, number_of_lines_of_context, tb_offset)\n",
            "  File \"/usr/local/lib/python3.6/dist-packages/IPython/core/ultratb.py\", line 313, in wrapped\n",
            "    return f(*args, **kwargs)\n",
            "  File \"/usr/local/lib/python3.6/dist-packages/IPython/core/ultratb.py\", line 358, in _fixed_getinnerframes\n",
            "    records = fix_frame_records_filenames(inspect.getinnerframes(etb, context))\n",
            "  File \"/usr/lib/python3.6/inspect.py\", line 1490, in getinnerframes\n",
            "    frameinfo = (tb.tb_frame,) + getframeinfo(tb, context)\n",
            "  File \"/usr/lib/python3.6/inspect.py\", line 1448, in getframeinfo\n",
            "    filename = getsourcefile(frame) or getfile(frame)\n",
            "  File \"/usr/lib/python3.6/inspect.py\", line 696, in getsourcefile\n",
            "    if getattr(getmodule(object, filename), '__loader__', None) is not None:\n",
            "  File \"/usr/lib/python3.6/inspect.py\", line 725, in getmodule\n",
            "    file = getabsfile(object, _filename)\n",
            "  File \"/usr/lib/python3.6/inspect.py\", line 709, in getabsfile\n",
            "    return os.path.normcase(os.path.abspath(_filename))\n",
            "  File \"/usr/lib/python3.6/posixpath.py\", line 383, in abspath\n",
            "    cwd = os.getcwd()\n",
            "OSError: [Errno 107] Transport endpoint is not connected\n"
          ],
          "name": "stdout"
        },
        {
          "output_type": "error",
          "ename": "NameError",
          "evalue": "ignored",
          "traceback": [
            "\u001b[0;31m---------------------------------------------------------------------------\u001b[0m"
          ]
        }
      ]
    },
    {
      "cell_type": "code",
      "metadata": {
        "id": "yV-v1FzXD8XZ",
        "colab_type": "code",
        "colab": {}
      },
      "source": [
        "\n",
        "_map.max(axis=1).argmax(),_map.max().argmax()\n",
        "_map.max(axis=1),_map.max(),_map.max(axis=1).argmax(),_map.max().argmax()"
      ],
      "execution_count": 0,
      "outputs": []
    },
    {
      "cell_type": "code",
      "metadata": {
        "id": "tQ7pfIn67wZC",
        "colab_type": "code",
        "colab": {
          "base_uri": "https://localhost:8080/",
          "height": 772
        },
        "outputId": "97c39ec2-0787-400f-f062-e98b41980537"
      },
      "source": [
        "_map.min(axis=1).argmin(),_map.min().argmin()"
      ],
      "execution_count": 20,
      "outputs": [
        {
          "output_type": "stream",
          "text": [
            "ERROR:root:Internal Python error in the inspect module.\n",
            "Below is the traceback from this internal error.\n",
            "\n"
          ],
          "name": "stderr"
        },
        {
          "output_type": "stream",
          "text": [
            "Traceback (most recent call last):\n",
            "  File \"/usr/local/lib/python3.6/dist-packages/IPython/core/interactiveshell.py\", line 2882, in run_code\n",
            "    exec(code_obj, self.user_global_ns, self.user_ns)\n",
            "  File \"<ipython-input-20-794583ffa5b5>\", line 1, in <module>\n",
            "    _map.min(axis=1).argmin(),_map.min().argmin()\n",
            "NameError: name '_map' is not defined\n",
            "\n",
            "During handling of the above exception, another exception occurred:\n",
            "\n",
            "Traceback (most recent call last):\n",
            "  File \"/usr/local/lib/python3.6/dist-packages/IPython/core/interactiveshell.py\", line 1823, in showtraceback\n",
            "    stb = value._render_traceback_()\n",
            "AttributeError: 'NameError' object has no attribute '_render_traceback_'\n",
            "\n",
            "During handling of the above exception, another exception occurred:\n",
            "\n",
            "Traceback (most recent call last):\n",
            "  File \"/usr/local/lib/python3.6/dist-packages/IPython/core/ultratb.py\", line 1132, in get_records\n",
            "    return _fixed_getinnerframes(etb, number_of_lines_of_context, tb_offset)\n",
            "  File \"/usr/local/lib/python3.6/dist-packages/IPython/core/ultratb.py\", line 313, in wrapped\n",
            "    return f(*args, **kwargs)\n",
            "  File \"/usr/local/lib/python3.6/dist-packages/IPython/core/ultratb.py\", line 358, in _fixed_getinnerframes\n",
            "    records = fix_frame_records_filenames(inspect.getinnerframes(etb, context))\n",
            "  File \"/usr/lib/python3.6/inspect.py\", line 1490, in getinnerframes\n",
            "    frameinfo = (tb.tb_frame,) + getframeinfo(tb, context)\n",
            "  File \"/usr/lib/python3.6/inspect.py\", line 1448, in getframeinfo\n",
            "    filename = getsourcefile(frame) or getfile(frame)\n",
            "  File \"/usr/lib/python3.6/inspect.py\", line 696, in getsourcefile\n",
            "    if getattr(getmodule(object, filename), '__loader__', None) is not None:\n",
            "  File \"/usr/lib/python3.6/inspect.py\", line 725, in getmodule\n",
            "    file = getabsfile(object, _filename)\n",
            "  File \"/usr/lib/python3.6/inspect.py\", line 709, in getabsfile\n",
            "    return os.path.normcase(os.path.abspath(_filename))\n",
            "  File \"/usr/lib/python3.6/posixpath.py\", line 383, in abspath\n",
            "    cwd = os.getcwd()\n",
            "OSError: [Errno 107] Transport endpoint is not connected\n"
          ],
          "name": "stdout"
        },
        {
          "output_type": "error",
          "ename": "NameError",
          "evalue": "ignored",
          "traceback": [
            "\u001b[0;31m---------------------------------------------------------------------------\u001b[0m"
          ]
        }
      ]
    },
    {
      "cell_type": "markdown",
      "metadata": {
        "id": "Xdgsg214ClxI",
        "colab_type": "text"
      },
      "source": [
        "## Lowest value of Accuracy-0.304878 occured at (0.00050,0.1)\n",
        "## Highest value of acc -0.975610 (occurs multiple times lets take one)-\n",
        "(0.075,1)"
      ]
    },
    {
      "cell_type": "code",
      "metadata": {
        "id": "IwDVTONnLDyp",
        "colab_type": "code",
        "colab": {}
      },
      "source": [
        "if not os.path.exists(\"Activationplots\"):\n",
        "  os.mkdir(\"Activationplots\")\n",
        "\n",
        "def plotActivation(h1_out,h2_out,epoch):\n",
        "\n",
        "  fig,ax=plt.subplots(1,2,figsize=(20,10))\n",
        "  sns.heatmap(h1_out,ax=ax[0])\n",
        "  sns.heatmap(h2_out,ax=ax[1]) \n",
        "  fig.savefig(f\"Activationplots/plot_{epoch}\")\n",
        "  plt.close(fig)"
      ],
      "execution_count": 0,
      "outputs": []
    },
    {
      "cell_type": "code",
      "metadata": {
        "id": "ok79RdWrqmjF",
        "colab_type": "code",
        "colab": {}
      },
      "source": [
        "def showActivation(alpha,h1_weights, h2_weights, out_weights, h1_bias, h2_bias, out_bias,verbose=True,plot_title=\"worst\"):\n",
        "  ##############################################################################\n",
        "  # NN performance statistics\n",
        "  training_error = []\n",
        "  validation_error = []\n",
        "\n",
        "  training_loss = []\n",
        "  validation_loss = []\n",
        "\n",
        "  pred = np.zeros(inputs.shape)\n",
        "\n",
        "  ##############################################################################\n",
        "  # neural network training\n",
        "  epoch = 0  \n",
        "  h1_out = relu(validation_inputs.dot(h1_weights))\n",
        "  h2_out = relu(h1_out.dot(h2_weights))\n",
        "  plotActivation(h1_out,h2_out,f\"{plot_title}_BeforeTraining\")\n",
        "  while(epoch < max_epochs):\n",
        "      epoch += 1\n",
        "      correct_cnt = 0\n",
        "      \n",
        "      for batch in range(num_batches):\n",
        "          batch_start = batch * batch_size\n",
        "          batch_end = (batch + 1) * batch_size\n",
        "          \n",
        "          # feedforward\n",
        "          h1_out = leaky_relu(inputs[batch_start:batch_end].dot(h1_weights) + h1_bias)\n",
        "          h2_out = leaky_relu(h1_out.dot(h2_weights) + h2_bias)\n",
        "          out = softmax(h2_out.dot(out_weights) + out_bias)\n",
        "          \n",
        "\n",
        "          # save outputs\n",
        "          for i in range(batch_size):\n",
        "              correct_cnt += int(np.argmax(out[i]) == \\\n",
        "                                np.argmax(labels[batch_start+i]))\n",
        "          pred[batch_start:batch_end] = out\n",
        "\n",
        "          # backpropagation\n",
        "          out_delta = (out - labels[batch_start:batch_end]) / (out.shape[0] * out.shape[1])\n",
        "          h2_delta = out_delta.dot(out_weights.T) * leaky_relu_deriv(h2_out)\n",
        "          h1_delta = h2_delta.dot(h2_weights.T) * leaky_relu_deriv(h1_out)\n",
        "\n",
        "          out_weights -= alpha * h2_out.T.dot(out_delta)\n",
        "          h2_weights -= alpha * h1_out.T.dot(h2_delta)\n",
        "          h1_weights -= alpha * inputs[batch_start:batch_end].T.dot(h1_delta)\n",
        "          \n",
        "          out_bias -= alpha * np.sum(out_delta, axis=0, keepdims=True)\n",
        "          h2_bias -= alpha * np.sum(h2_delta, axis=0, keepdims=True)\n",
        "          h1_bias -= alpha * np.sum(h1_delta, axis=0, keepdims=True)\n",
        "      \n",
        "      # training loss and error\n",
        "      training_error.append(1 - correct_cnt/len(inputs))\n",
        "      training_loss.append(log_loss(labels, pred))\n",
        "      \n",
        "      # validation loss and error\n",
        "      validation_correct_cnt = 0\n",
        "      h1_out = relu(validation_inputs.dot(h1_weights))\n",
        "      h2_out = relu(h1_out.dot(h2_weights))\n",
        "      out = softmax(h2_out.dot(out_weights))\n",
        "      #if epoch==50:\n",
        "      plotActivation(h1_out,h2_out,f\"{plot_title}_{epoch}\")\n",
        "      for i in range(len(validation_inputs)):\n",
        "          validation_correct_cnt += int(np.argmax(out[i]) == \\\n",
        "                                        np.argmax(validation_labels[i]))\n",
        "      validation_pred = out\n",
        "      \n",
        "      validation_error.append(1 - validation_correct_cnt/len(validation_inputs))\n",
        "      validation_loss.append(log_loss(validation_labels, validation_pred))\n",
        "      \n",
        "      # check early stopping conditions every N epoch\n",
        "      if(epoch % ES_N_epoch == 0):\n",
        "          if((ES_criterion == 'validation_loss')\\\n",
        "            and (validation_loss[-1] > validation_loss[-ES_N_epoch])\\\n",
        "            and (epoch > min_epochs)):\n",
        "              # stop training\n",
        "              break\n",
        "          elif((ES_criterion == 'generalization_loss')\\\n",
        "              and ((validation_loss[-1]/min(validation_loss) - 1) > gen_loss_thold)\\\n",
        "              and (epoch > min_epochs)):\n",
        "              # stop training\n",
        "              break\n",
        "\n",
        "          # progress describes how quickly validation loss changes \n",
        "          progress = 1000 * (np.sum(validation_loss[-1:-(ES_N_epoch+1):-1])\\\n",
        "                            / (ES_N_epoch * min(validation_loss[-1:-(ES_N_epoch+1):-1])) - 1)            \n",
        "          if(progress < validation_progress_thold):\n",
        "              # stop training\n",
        "              break\n",
        "  plotActivation(h1_out,h2_out,f'{plot_title}_AfterFinishingTraining')\n",
        "  if verbose:\n",
        "    ##############################################################################\n",
        "    # training summary\n",
        "    print(\"Number of epoch elapsed:\", epoch)\n",
        "    print(\"Early stopping criterion used:\", ES_criterion)\n",
        "    print(\"\")\n",
        "\n",
        "    # pick accuracy from the last successful early stopping check\n",
        "    print(\"Final training accuracy:\", 1 - training_error[-ES_N_epoch])\n",
        "    print(\"Final validation accuracy:\", 1 - validation_error[-ES_N_epoch])\n",
        "    print(\"\")\n",
        "\n",
        "    #confusion_matrix(validation_y, np.argmax(validation_pred, axis=1), labels=[0, 1])\n",
        "    np.set_printoptions(precision=2)\n",
        "    plot_confusion_matrix(validation_y, np.argmax(validation_pred, axis=1), np.array([\"class 0\", \"class 1\"]),\\\n",
        "                          title=\"Validation set confusion matrix\")\n",
        "    print(\"\")\n",
        "\n",
        "    # loss funtion plot\n",
        "    fig, ax = plt.subplots()\n",
        "    training_loss_line, = ax.plot(range(epoch), training_loss)\n",
        "    validation_loss_line, = ax.plot(range(epoch), validation_loss)\n",
        "    ax.set(xlabel=\"Epoch\", ylabel=\"Cross entropy loss\", title=\"Loss function plot\")\n",
        "    plt.legend((training_loss_line, validation_loss_line), ('Training loss', 'Validation loss'))\n",
        "\n",
        "    # error funtion plot\n",
        "    fig, ax = plt.subplots()\n",
        "    training_error_line, = ax.plot(range(epoch), training_error)\n",
        "    validation_error_line, = ax.plot(range(epoch), validation_error)\n",
        "    ax.set(xlabel=\"Epoch\", ylabel=\"Error\", title=\"Error plot\")\n",
        "    plt.legend((training_error_line, validation_error_line), ('Training error', 'Validation error'))\n",
        "    plt.show()\n",
        "  return 1 - validation_error[-ES_N_epoch],epoch"
      ],
      "execution_count": 0,
      "outputs": []
    },
    {
      "cell_type": "markdown",
      "metadata": {
        "id": "17fgQVoxYFgC",
        "colab_type": "text"
      },
      "source": [
        "## worst model\n"
      ]
    },
    {
      "cell_type": "code",
      "metadata": {
        "id": "cCPZQYIeIQCA",
        "colab_type": "code",
        "colab": {
          "base_uri": "https://localhost:8080/",
          "height": 1000
        },
        "outputId": "f596483b-b5fb-4bf6-826b-aaeb9ec67173"
      },
      "source": [
        "#h1_weights, h2_weights, out_weights, h1_bias, h2_bias, out_bias=create_weights_and_biases(0.00050)\n",
        "_,half_epoch=showActivation(0.1,*create_weights_and_biases(0.00050))"
      ],
      "execution_count": 19,
      "outputs": [
        {
          "output_type": "stream",
          "text": [
            "Number of epoch elapsed: 62\n",
            "Early stopping criterion used: generalization_loss\n",
            "\n",
            "Final training accuracy: 0.6097560975609756\n",
            "Final validation accuracy: 0.5\n",
            "\n",
            "Confusion matrix, without normalization\n",
            "[[41  0]\n",
            " [41  0]]\n",
            "\n"
          ],
          "name": "stdout"
        },
        {
          "output_type": "display_data",
          "data": {
            "image/png": "[encoded data removed]",
            "text/plain": [
              "<Figure size 432x288 with 2 Axes>"
            ]
          },
          "metadata": {
            "tags": []
          }
        },
        {
          "output_type": "display_data",
          "data": {
            "image/png": "[encoded data removed]",
            "text/plain": [
              "<Figure size 432x288 with 1 Axes>"
            ]
          },
          "metadata": {
            "tags": []
          }
        },
        {
          "output_type": "display_data",
          "data": {
            "image/png": "[encoded data removed]",
            "text/plain": [
              "<Figure size 432x288 with 1 Axes>"
            ]
          },
          "metadata": {
            "tags": []
          }
        }
      ]
    },
    {
      "cell_type": "code",
      "metadata": {
        "id": "VmZ_21-mB8zd",
        "colab_type": "code",
        "colab": {
          "base_uri": "https://localhost:8080/",
          "height": 70
        },
        "outputId": "77137fe8-70af-4184-ec58-50a6aeabea22"
      },
      "source": [
        "print(\"using plot_worst_BeforeTraining\")\n",
        "print(f\"using plot number for {half_epoch//2}\")\n",
        "print(\"Using after plot_worst_AfterFinishiningTraining\")"
      ],
      "execution_count": 24,
      "outputs": [
        {
          "output_type": "stream",
          "text": [
            "using plot_worst_BeforeTraining\n",
            "using plot number for 31\n",
            "Using after plot_worst_AfterFinishiningTraining\n"
          ],
          "name": "stdout"
        }
      ]
    },
    {
      "cell_type": "markdown",
      "metadata": {
        "id": "CXw9PUuUZk-6",
        "colab_type": "text"
      },
      "source": [
        "## Best model"
      ]
    },
    {
      "cell_type": "code",
      "metadata": {
        "id": "GF8vmQmLYJUS",
        "colab_type": "code",
        "colab": {
          "base_uri": "https://localhost:8080/",
          "height": 1000
        },
        "outputId": "5f519ef3-c8d6-440e-f224-e644cb040566"
      },
      "source": [
        "_,half_epoch=showActivation(0.75,*create_weights_and_biases(1),plot_title=\"best\")"
      ],
      "execution_count": 25,
      "outputs": [
        {
          "output_type": "stream",
          "text": [
            "Number of epoch elapsed: 74\n",
            "Early stopping criterion used: generalization_loss\n",
            "\n",
            "Final training accuracy: 0.975609756097561\n",
            "Final validation accuracy: 0.975609756097561\n",
            "\n",
            "Confusion matrix, without normalization\n",
            "[[40  1]\n",
            " [ 1 40]]\n",
            "\n"
          ],
          "name": "stdout"
        },
        {
          "output_type": "display_data",
          "data": {
            "image/png": "[encoded data removed]",
            "text/plain": [
              "<Figure size 432x288 with 2 Axes>"
            ]
          },
          "metadata": {
            "tags": []
          }
        },
        {
          "output_type": "display_data",
          "data": {
            "image/png": "[encoded data removed]",
            "text/plain": [
              "<Figure size 432x288 with 1 Axes>"
            ]
          },
          "metadata": {
            "tags": []
          }
        },
        {
          "output_type": "display_data",
          "data": {
            "image/png": "[encoded data removed]",
            "text/plain": [
              "<Figure size 432x288 with 1 Axes>"
            ]
          },
          "metadata": {
            "tags": []
          }
        }
      ]
    },
    {
      "cell_type": "code",
      "metadata": {
        "id": "qy1mQxZ0Cb3U",
        "colab_type": "code",
        "colab": {
          "base_uri": "https://localhost:8080/",
          "height": 70
        },
        "outputId": "61875288-8870-4da8-b36b-3baf86687f23"
      },
      "source": [
        "print(\"using plot_best_BeforeTraining\")\n",
        "print(f\"using plot number for plot_best_{half_epoch//2}\")\n",
        "print(\"Using after plot_best_AfterFinishiningTraining\")"
      ],
      "execution_count": 27,
      "outputs": [
        {
          "output_type": "stream",
          "text": [
            "using plot_best_BeforeTraining\n",
            "using plot number for plot_best_37\n",
            "Using after plot_best_AfterFinishiningTraining\n"
          ],
          "name": "stdout"
        }
      ]
    },
    {
      "cell_type": "markdown",
      "metadata": {
        "id": "nslGYYS9ZpVd",
        "colab_type": "text"
      },
      "source": [
        "## comments :\n",
        "\n",
        "- worst model have same activation map in starting ,middle and end of the training process\n",
        "- Best model changes (adjust its weights) during training thats why the Activation map changes in all the three places\n",
        "\n",
        "\n"
      ]
    },
    {
      "cell_type": "markdown",
      "metadata": {
        "id": "YWJPT-sWdyvS",
        "colab_type": "text"
      },
      "source": [
        "## Hyperparameter Optimization\n",
        "\n",
        " - learning rate, \n",
        " - number of hidden neurons per layer, \n",
        " - type of activation function\n",
        " "
      ]
    },
    {
      "cell_type": "code",
      "metadata": {
        "id": "SGB0Puvlnpsa",
        "colab_type": "code",
        "colab": {}
      },
      "source": [
        "activation_lookup={\"relu\":[relu,relu_deriv],\"leaky_relu\":[leaky_relu,leaky_relu_deriv],\"sigmoid\":[sigmoid,sigmoid_deriv],\n",
        "\"tanh\":[tanh,tanh_deriv],\"softamax\":[softmax,softmax_deriv]}\n",
        "hidden_neuron_size=[10,30,70,90,100]\n",
        "learning_rates = [0.0001, 0.00025, 0.0005, 0.00075, 0.001, 0.0025, 0.005, 0.0075, 0.01, 0.02, 0.05, 0.075]\n",
        "\n"
      ],
      "execution_count": 0,
      "outputs": []
    },
    {
      "cell_type": "code",
      "metadata": {
        "id": "9oBSsHran-gX",
        "colab_type": "code",
        "colab": {}
      },
      "source": [
        "activation_lookup"
      ],
      "execution_count": 0,
      "outputs": []
    },
    {
      "cell_type": "code",
      "metadata": {
        "id": "ONcLHgAsaSAz",
        "colab_type": "code",
        "colab": {}
      },
      "source": [
        "def tune_model(activation,hidden_size,alpha):\n",
        "  #hidden_size = 10\n",
        "  out_size = 2\n",
        "  activation_fn=activation_lookup[activation][0]\n",
        "  activation_fn_deriv=activation_lookup[activation][1]\n",
        "  # learning rate\n",
        "  #alpha = 0.02\n",
        "\n",
        "  # batch config\n",
        "  num_batches = 10\n",
        "  batch_size = int(inputs.shape[0] / num_batches)\n",
        "\n",
        "  ##############################################################################\n",
        "  ### early stopping (ES) config\n",
        "  # criterion : check criterion every N epoch\n",
        "  ES_config = {\n",
        "      'validation_loss' : 5,\n",
        "      'generalization_loss': 2\n",
        "  }\n",
        "\n",
        "  # stopping criteria\n",
        "  # Based on: \"Early Stopping | but when?\" Lutz Prechelt\n",
        "  # https://page.mi.fu-berlin.de/prechelt/Biblio/stop_tricks1997.pdf\n",
        "  # - validation loss - stop immediately wh en val. loss start increasing\n",
        "  # - generalization loss - stop when gen. loss exceeds threshold\n",
        "  #   rule: ((val_loss[-1] / min(val_loss[:])) - 1) > thold\n",
        "  # - progress - stop when validation loss value change falls below threshold\n",
        "\n",
        "  #ES_criterion = 'validation_loss'\n",
        "  ES_criterion = 'generalization_loss'\n",
        "\n",
        "  # stop when generalization loss exceeds threshold\n",
        "  gen_loss_thold = 0.01\n",
        "\n",
        "  # stop when validation loss progress is below threshold\n",
        "  validation_progress_thold = 0.1\n",
        "\n",
        "  # check stopping criterion every N epoch\n",
        "  ES_N_epoch = ES_config[ES_criterion]\n",
        "\n",
        "  # prevent training from stopping too early when loss might\n",
        "  # still be changing rapidly\n",
        "  min_epochs = 100\n",
        "\n",
        "  # max training time\n",
        "  max_epochs = 3000\n",
        "\n",
        "  ##############################################################################\n",
        "  # weight initialization\n",
        "\n",
        "  # He initialization\n",
        "  # https://www.cv-foundation.org/openaccess/content_iccv_2015/papers/He_Delving_Deep_into_ICCV_2015_paper.pdf\n",
        "  h1_weights = np.random.randn(inputs.shape[1], hidden_size) * np.sqrt(2 / (inputs.shape[1]))\n",
        "  h2_weights = np.random.randn(hidden_size, hidden_size) * np.sqrt(2 / (hidden_size))\n",
        "\n",
        "  # Xavier initialization\n",
        "  # http://proceedings.mlr.press/v9/glorot10a/glorot10a.pdf\n",
        "  out_weights = np.random.uniform(-1,1,size=(hidden_size, out_size)) * np.sqrt(6) / np.sqrt(hidden_size + out_size)\n",
        "\n",
        "  ##############################################################################\n",
        "  # bias initialization\n",
        "  h1_bias = np.zeros((1, hidden_size))\n",
        "  h2_bias = np.zeros((1, hidden_size))\n",
        "  out_bias = np.zeros((1, out_size))\n",
        "\n",
        "  ##############################################################################\n",
        "  # NN performance statistics\n",
        "  training_error = []\n",
        "  validation_error = []\n",
        "\n",
        "  training_loss = []\n",
        "  validation_loss = []\n",
        "\n",
        "  pred = np.zeros(inputs.shape)\n",
        "\n",
        "  ##############################################################################\n",
        "  # neural network training\n",
        "  epoch = 0  \n",
        "\n",
        "  while(epoch < max_epochs):\n",
        "      epoch += 1\n",
        "      correct_cnt = 0\n",
        "      \n",
        "      for batch in range(num_batches):\n",
        "          batch_start = batch * batch_size\n",
        "          batch_end = (batch + 1) * batch_size\n",
        "          \n",
        "          # feedforward\n",
        "          h1_out = activation_fn(inputs[batch_start:batch_end].dot(h1_weights) + h1_bias)\n",
        "          h2_out = activation_fn(h1_out.dot(h2_weights) + h2_bias)\n",
        "          out = softmax(h2_out.dot(out_weights) + out_bias)\n",
        "\n",
        "          # save outputs\n",
        "          for i in range(batch_size):\n",
        "              correct_cnt += int(np.argmax(out[i]) == \\\n",
        "                                np.argmax(labels[batch_start+i]))\n",
        "          pred[batch_start:batch_end] = out\n",
        "\n",
        "          # backpropagation\n",
        "          out_delta = (out - labels[batch_start:batch_end]) / (out.shape[0] * out.shape[1])\n",
        "          h2_delta = out_delta.dot(out_weights.T) * activation_fn_deriv(h2_out)\n",
        "          h1_delta = h2_delta.dot(h2_weights.T) * activation_fn_deriv(h1_out)\n",
        "\n",
        "          out_weights -= alpha * h2_out.T.dot(out_delta)\n",
        "          h2_weights -= alpha * h1_out.T.dot(h2_delta)\n",
        "          h1_weights -= alpha * inputs[batch_start:batch_end].T.dot(h1_delta)\n",
        "          \n",
        "          out_bias -= alpha * np.sum(out_delta, axis=0, keepdims=True)\n",
        "          h2_bias -= alpha * np.sum(h2_delta, axis=0, keepdims=True)\n",
        "          h1_bias -= alpha * np.sum(h1_delta, axis=0, keepdims=True)\n",
        "      \n",
        "      # training loss and error\n",
        "      training_error.append(1 - correct_cnt/len(inputs))\n",
        "      training_loss.append(log_loss(labels, pred))\n",
        "      \n",
        "      # validation loss and error\n",
        "      validation_correct_cnt = 0\n",
        "      h1_out = relu(validation_inputs.dot(h1_weights))\n",
        "      h2_out = relu(h1_out.dot(h2_weights))\n",
        "      out = softmax(h2_out.dot(out_weights))\n",
        "      \n",
        "      for i in range(len(validation_inputs)):\n",
        "          validation_correct_cnt += int(np.argmax(out[i]) == \\\n",
        "                                        np.argmax(validation_labels[i]))\n",
        "      validation_pred = out\n",
        "      \n",
        "      validation_error.append(1 - validation_correct_cnt/len(validation_inputs))\n",
        "      validation_loss.append(log_loss(validation_labels, validation_pred))\n",
        "      \n",
        "      # check early stopping conditions every N epoch\n",
        "      if(epoch % ES_N_epoch == 0):\n",
        "          if((ES_criterion == 'validation_loss')\\\n",
        "            and (validation_loss[-1] > validation_loss[-ES_N_epoch])\\\n",
        "            and (epoch > min_epochs)):\n",
        "              # stop training\n",
        "              break\n",
        "          elif((ES_criterion == 'generalization_loss')\\\n",
        "              and ((validation_loss[-1]/min(validation_loss) - 1) > gen_loss_thold)\\\n",
        "              and (epoch > min_epochs)):\n",
        "              # stop training\n",
        "              break\n",
        "\n",
        "          # progress describes how quickly validation loss changes \n",
        "          progress = 1000 * (np.sum(validation_loss[-1:-(ES_N_epoch+1):-1])\\\n",
        "                            / (ES_N_epoch * min(validation_loss[-1:-(ES_N_epoch+1):-1])) - 1)            \n",
        "          if(progress < validation_progress_thold):\n",
        "              # stop training\n",
        "              break\n",
        "\n",
        "  ##############################################################################\n",
        "  # training summary\n",
        "  print(\"Number of epoch elapsed:\", epoch)\n",
        "  print(\"Early stopping criterion used:\", ES_criterion)\n",
        "  print(\"\")\n",
        "\n",
        "  # pick accuracy from the last successful early stopping check\n",
        "  print(\"Final training accuracy:\", 1 - training_error[-ES_N_epoch])\n",
        "  print(\"Final validation accuracy:\", 1 - validation_error[-ES_N_epoch])\n",
        "  print(\"\")\n",
        "\n",
        "  #confusion_matrix(validation_y, np.argmax(validation_pred, axis=1), labels=[0, 1])\n",
        "  np.set_printoptions(precision=2)\n",
        "  plot_confusion_matrix(validation_y, np.argmax(validation_pred, axis=1), np.array([\"class 0\", \"class 1\"]),\\\n",
        "                        title=\"Validation set confusion matrix\")\n",
        "  print(\"\")\n",
        "\n",
        "  # loss funtion plot\n",
        "  fig, ax = plt.subplots()\n",
        "  training_loss_line, = ax.plot(range(epoch), training_loss)\n",
        "  validation_loss_line, = ax.plot(range(epoch), validation_loss)\n",
        "  ax.set(xlabel=\"Epoch\", ylabel=\"Cross entropy loss\", title=\"Loss function plot\")\n",
        "  plt.legend((training_loss_line, validation_loss_line), ('Training loss', 'Validation loss'))\n",
        "\n",
        "  # error funtion plot\n",
        "  fig, ax = plt.subplots()\n",
        "  training_error_line, = ax.plot(range(epoch), training_error)\n",
        "  validation_error_line, = ax.plot(range(epoch), validation_error)\n",
        "  ax.set(xlabel=\"Epoch\", ylabel=\"Error\", title=\"Error plot\")\n",
        "  plt.legend((training_error_line, validation_error_line), ('Training error', 'Validation error'))\n",
        "\n",
        "  return 1 - validation_error[-ES_N_epoch]"
      ],
      "execution_count": 0,
      "outputs": []
    },
    {
      "cell_type": "code",
      "metadata": {
        "id": "5C376GMAr9wn",
        "colab_type": "code",
        "colab": {}
      },
      "source": [
        "def tunner():\n",
        "  act_list=[]\n",
        "  neuron_list=[]\n",
        "  lr_list=[]\n",
        "  acc_list=[]\n",
        "  for act in activation_lookup.keys():\n",
        "    for neurons in hidden_neuron_size:\n",
        "      for lr in learning_rates:\n",
        "        acc_list.append(tune_model(act,neurons,lr))\n",
        "\n",
        "  df=pd.DataFrame()\n",
        "  df['activation']=act_list\n",
        "  df['hidden_neurons']=neuron_list\n",
        "  df['learning_rate']=lr_list\n",
        "  df['accuravy']=acc_list\n",
        "\n",
        "  return df"
      ],
      "execution_count": 0,
      "outputs": []
    },
    {
      "cell_type": "code",
      "metadata": {
        "id": "DA19oABls_YT",
        "colab_type": "code",
        "colab": {}
      },
      "source": [
        "df=tunner()\n",
        "df"
      ],
      "execution_count": 0,
      "outputs": []
    },
    {
      "cell_type": "code",
      "metadata": {
        "id": "2nQA-FAnwXis",
        "colab_type": "code",
        "colab": {}
      },
      "source": [
        "res"
      ],
      "execution_count": 0,
      "outputs": []
    },
    {
      "cell_type": "code",
      "metadata": {
        "id": "AOyNpHMVwY4n",
        "colab_type": "code",
        "colab": {}
      },
      "source": [
        "df"
      ],
      "execution_count": 0,
      "outputs": []
    },
    {
      "cell_type": "code",
      "metadata": {
        "id": "e9HDTyBkweR3",
        "colab_type": "code",
        "colab": {}
      },
      "source": [
        ""
      ],
      "execution_count": 0,
      "outputs": []
    }
  ]
}